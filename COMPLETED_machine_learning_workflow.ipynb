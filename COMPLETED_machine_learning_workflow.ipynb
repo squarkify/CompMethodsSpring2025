{
  "nbformat": 4,
  "nbformat_minor": 0,
  "metadata": {
    "colab": {
      "provenance": [],
      "toc_visible": true,
      "include_colab_link": true
    },
    "kernelspec": {
      "name": "python3",
      "display_name": "Python 3"
    },
    "language_info": {
      "name": "python"
    }
  },
  "cells": [
    {
      "cell_type": "markdown",
      "metadata": {
        "id": "view-in-github",
        "colab_type": "text"
      },
      "source": [
        "<a href=\"https://colab.research.google.com/github/squarkify/CompMethodsSpring2025/blob/main/COMPLETED_machine_learning_workflow.ipynb\" target=\"_parent\"><img src=\"https://colab.research.google.com/assets/colab-badge.svg\" alt=\"Open In Colab\"/></a>"
      ]
    },
    {
      "cell_type": "markdown",
      "source": [
        "<a href=\"https://colab.research.google.com/github/GDS-Education-Community-of-Practice/DSECOP/blob/main/Machine_Learning_Workflow/0_1_machine_learning_workflow.ipynb\" target=\"_parent\"><img src=\"https://colab.research.google.com/assets/colab-badge.svg\" alt=\"Open In Colab\"/></a>"
      ],
      "metadata": {
        "id": "VTVT7FXAnKrL"
      }
    },
    {
      "cell_type": "markdown",
      "source": [
        "# An Introduction to the Machine Learning Workflow with Linear Regression\n",
        "\n",
        "Author: Julie Butler\n",
        "\n",
        "Date Created: October 4, 2022\n",
        "\n",
        "Last Modified: November 7, 2022\n",
        "\n",
        "Notebook 1/5 of the DSECOP Module: An Introduction to the Machine Learning Workflow with Linear Regression.  See the entire module [here]()."
      ],
      "metadata": {
        "id": "VMPKBKZTTxXC"
      }
    },
    {
      "cell_type": "markdown",
      "source": [
        "## What is Machine Learning?\n",
        "\n",
        "Machine learning is the field that occurs when artificial intelligence is applied to data science; it is using computer algorithms that learn to draw knowledge from data sets.  To use another definition, machine learning is a set of algorithms which learn to perform a task by considering examples of what is to be done, but without being given explicit instructions.  Machine learning algortihms learn what to do by finding patterns in the data that are correlated to the problem to be solved.\n",
        "\n",
        "Machine learning algorithms can be split up in two ways, either based on the type of problem or the type of data set.  The first way to classify machine learning algorithms is based on the problem type.  If we are trying to classify data into a set number of categories, then the machine learning algorithm is performing _classification_.  If instead we are training the algorithm on a data set where the output could be any number then these machine learning algorithms are performing _regression_.\n",
        "\n",
        "The other way to classify machine learning algorithms is by the type of data.  If the data set has both an x and a y component, then a _supervised_ machine learning algorithm will learn how to connnect each y value with its corresponding x value.  We call data sets that have x and y components _labelled_ data.  If instead we were only given the y component of a data set, i.e. _unlabelled_ data, then _unsupervised_ machine learning algorithms attempt to determine patterns without knowing the x components.  There is a third category of machine learning algorithms called _reinforcement_ learning which is popular in fields such as robotics.\n",
        "\n",
        "There are many great resources on machine learning, but a few for further investigation are listed below.\n",
        "* [_Hands-On Machine Learning with Scikit-Learn, Keras, and TensorFlow, 2nd Edition_](https://www.oreilly.com/library/view/hands-on-machine-learning/9781492032632/) by Aurélien Géron\n",
        "* [Scikit-Learn's User Guide](https://scikit-learn.org/stable/user_guide.html)\n",
        "* [Machine Learning Mastery](https://machinelearningmastery.com) by Jason Brownlee\n",
        "* [A.I. Wiki](https://wiki.pathmind.com)"
      ],
      "metadata": {
        "id": "nzWczsm2UJ97"
      }
    },
    {
      "cell_type": "markdown",
      "source": [
        "## Linear Regression: A Simple Machine Learning Algorithm\n",
        "\n",
        "Linear regression is one of the most basic machine learning algorithms, but it still contains all of the basic ingredients present in more complicated machine learning algorithms such as neural networks. Because of this many machine learning courses and books start off with a study of linear regression.\n",
        "\n",
        "Linear regression also has a few other benefits such as analytical expressions for its weights (described in a few cells) and it has a direct link to statistics as many statistics classes also cover linear regression.  Many machine learning packages, such as Scikit-Learn, provide easy to use implementations of linear regression but it is also not difficult to implement linear regression from scratch (the bonus problem of this notebook).\n",
        "\n",
        "However, due to the algorithms simplicity, many machine learning practicioners overlook it in favor of more complicated (and popular) machine learning algorithms.  However, we will see that linear regression can be a very powerful too, especially with a few modifications."
      ],
      "metadata": {
        "id": "_AS5WtZGULio"
      }
    },
    {
      "cell_type": "markdown",
      "source": [
        "### The Linear Regression Algorithm\n",
        "\n",
        "Given a data set (**X**, **y**), the linear regression algorithm makes the simple assumption that the data set it is trying to model, y, can be approximated by multiplying the input/dependent data, X, by a set of weights, $\\theta$:\n",
        "\n",
        "<br>\n",
        "\n",
        "$$\\hat{y}_{Linear} = X\\theta,$$\n",
        "\n",
        "\n",
        "<br>\n",
        "\n",
        "where $\\hat{y}$ is the output of the linear regression algorithm ($\\hat{y}$ is typically used to denote a machine learning prediction, regardless of the algorithm).  X can either be a vector or a matrix depending on how many features are needed and $\\theta$ is either a scalar (if X is a vector) or a vector (if X is a matrix).\n",
        "\n",
        "The machine learning part of linear regression comes when the value of $\\theta$ is found such that the predicted data points ($\\hat{y}$) are as close as possible to the known data points (y)."
      ],
      "metadata": {
        "id": "x-xI_KMUV71Y"
      }
    },
    {
      "cell_type": "markdown",
      "source": [
        "### Linear Regression Loss Function\n",
        "\n",
        "In machine learning, a loss function measures the error in the algorithm's prediction from the true data. The loss function for the linear regressison algorithm is the mean-squared error function (y = y$_{True}$ and $\\hat{y}$ = $\\hat{y}_{Linear}$):\n",
        "\n",
        "$$J(\\theta) = \\frac{1}{n}\\sum_{i=0}^{n-1} (\\hat{y}_i - y_i)^2$$\n",
        "\n",
        "The goal of the linear regression algorithm is to find values of $\\theta$ which minimize the loss function (meaning that the predicted and true results will be as soon as possible).\n",
        "We can find the best values of $\\theta$ using a simple optimization:\n",
        "\n",
        "$$\\frac{\\partial J(\\theta)}{\\partial \\theta} = 0.$$\n",
        "\n",
        "If we rewrite the loss function in terms of matrices and vectors:\n",
        "\n",
        "$$J(\\theta) = \\frac{1}{n}[(y-X\\theta)(y-X\\theta)],$$\n",
        "\n",
        "then we can solve the optimization probelm for $\\theta$, yielding:\n",
        "\n",
        "$$\\theta = (X^TX)^{-1}X^Ty.$$\n",
        "\n",
        "\n",
        "\n"
      ],
      "metadata": {
        "id": "J19Cid9PV_XT"
      }
    },
    {
      "cell_type": "markdown",
      "source": [
        "### Uses of Linear Regression\n",
        "\n",
        "Though linear regression is considered a simple machine learning model, we will see by the end of this notebook that some minor modifications can greatly extend the range of problems linear regression can be applied to."
      ],
      "metadata": {
        "id": "V5ILqA6HPwz4"
      }
    },
    {
      "cell_type": "markdown",
      "source": [
        "## The Machine Learning Workflow\n",
        "\n",
        "Though every machine learning problem will use a different algorithm and data set, the analysis shares the same five steps:\n",
        "\n",
        "1. Importing your data set and formatting it\n",
        "2. Splitting the data into a training set and a test set\n",
        "3. Training your machine learning model with the training set\n",
        "4. Evaluate the trained model's performance with the test set\n",
        "5. (Optional) Make improvements to your model to increase its performance\n",
        "\n",
        "For the remainder of this notebook we will see how these steps can be combined with linear regression to create a machine learning workflow that can be transferred to much more complicated problems."
      ],
      "metadata": {
        "id": "0qUfjH5UUQUs"
      }
    },
    {
      "cell_type": "markdown",
      "source": [
        "## Applying the Machine Learning Workflow to Linear Regression\n",
        "\n",
        "Before we begin we need to import the various libraries and packages that will be needed.  These include NumPy, Matplotlib, Pandas, and Scikit-Learn.  If you are using Google Colab to run these notebooks all of these package are already installed.  If you are using Jupyter notebooks on your own computer, check to make sure you have these packages installed before running this cell."
      ],
      "metadata": {
        "id": "Exc7Xken5W9r"
      }
    },
    {
      "cell_type": "code",
      "source": [
        "##############################\n",
        "##          IMPORTS         ##\n",
        "##############################\n",
        "# Needed for arrays and mathematical functions\n",
        "import numpy as np\n",
        "# For plotting\n",
        "import matplotlib.pyplot as plt\n",
        "# For importing and formatting data sets\n",
        "import pandas as pd\n",
        "# For the machine learning section, their functions will be\n",
        "# explained later in the notebook\n",
        "from sklearn.model_selection import train_test_split\n",
        "from sklearn.linear_model import LinearRegression"
      ],
      "metadata": {
        "id": "kFnV_ICaUogp"
      },
      "execution_count": null,
      "outputs": []
    },
    {
      "cell_type": "markdown",
      "source": [
        "Next, if you are running this notebook on Google Colab we need to set things up so that the data files on your Drive can be accessed.  If you are running this notebook using Jupyter notebooks, skip running this cell."
      ],
      "metadata": {
        "id": "Q47-1TBiZq1w"
      }
    },
    {
      "cell_type": "code",
      "source": [
        "# GOOGLE DRIVE SET UP\n",
        "from google.colab import drive\n",
        "# Mount my Google Drive\n",
        "drive.mount('/content/gdrive')"
      ],
      "metadata": {
        "colab": {
          "base_uri": "https://localhost:8080/"
        },
        "id": "zze9aOVIbZHT",
        "outputId": "d4ecde06-d1c5-44b8-92c7-8385b35c8d3c"
      },
      "execution_count": null,
      "outputs": [
        {
          "output_type": "stream",
          "name": "stdout",
          "text": [
            "Mounted at /content/gdrive\n"
          ]
        }
      ]
    },
    {
      "cell_type": "code",
      "source": [
        "# Directory to retrieve data files from (###CHANGE THIS###)\n",
        "data_dir = '/content/gdrive/My Drive/DSECOP_machine_learning_workflow/'"
      ],
      "metadata": {
        "id": "dK3AQU2Kdkb8"
      },
      "execution_count": null,
      "outputs": []
    },
    {
      "cell_type": "markdown",
      "source": [
        "Now, we need set a file path so the notebook knows where to save and read data from.  This will be the file path where the notebooks from this module are stored.\n",
        "\n",
        "### IMPORTANT!\n",
        "\n",
        "**PROBLEM 1:** Change the below line of code to reflect where you have this files for this module stored on your Google Drive or on your computer.  It is important that you start from the very top folder and work your way down the the folder where these files are stored."
      ],
      "metadata": {
        "id": "nK3LC4drLbgf"
      }
    },
    {
      "cell_type": "code",
      "source": [
        "# Directory to retrieve data files from (###CHANGE THIS###)\n",
        "data_dir = '/content/gdrive/My Drive/DSECOP_machine_learning_workflow/'"
      ],
      "metadata": {
        "id": "hc-lpRgIbMPM"
      },
      "execution_count": null,
      "outputs": []
    },
    {
      "cell_type": "markdown",
      "source": [
        "Let's generate data from a polynomial but with random noise added.  We do this to simulate a more realistic data set as in experiments there are often factors which influence the data and add noise that cannot be eliminated.\n",
        "\n",
        "The noise is added to the data set by adding a random integer between -10 and 10 to each y value of the data set.  Since the average value of the y data set before the noise is added is 94.8 and the maximum y value is 328.62, adding this noise does not change the shape of the data set drastically.  Later in the notebook you will explore how varying the amount of noise effects the machine learning model."
      ],
      "metadata": {
        "id": "cb8waaduxifq"
      }
    },
    {
      "cell_type": "code",
      "source": [
        "# Generate a range of x values and the corresponding y values\n",
        "# for a polynomial data set\n",
        "x = np.arange(-10,10,0.1)\n",
        "y = 3*x**2 + 4*x - 5\n",
        "\n",
        "# Add noise to the data set by adding a random integer to each\n",
        "# y value. The random integers will be between -10 and 10.\n",
        "noise = 10\n",
        "y = y + np.random.randint(-1*noise,noise,len(y))"
      ],
      "metadata": {
        "id": "25GxwZ9RUGBh"
      },
      "execution_count": null,
      "outputs": []
    },
    {
      "cell_type": "markdown",
      "source": [
        "Let's plot the data set to see how it looks.  Note we add labels to the x and y axes.  In the sciences it is important to always label the axes with the name of the data and units in applicable."
      ],
      "metadata": {
        "id": "NHCYxyOyyusD"
      }
    },
    {
      "cell_type": "code",
      "source": [
        "# Plot the data set and label the x and y axes\n",
        "plt.scatter(x,y, color=\"blue\", s=50)\n",
        "plt.xlabel(\"x\")\n",
        "plt.ylabel(\"y\")"
      ],
      "metadata": {
        "colab": {
          "base_uri": "https://localhost:8080/"
        },
        "id": "CctEkm6fYRLE",
        "outputId": "163ae86b-bac9-4dd5-d574-4a8b8b3dd2bb"
      },
      "execution_count": null,
      "outputs": [
        {
          "output_type": "execute_result",
          "data": {
            "text/plain": [
              "Text(0, 0.5, 'y')"
            ]
          },
          "metadata": {},
          "execution_count": 6
        },
        {
          "output_type": "display_data",
          "data": {
            "text/plain": [
              "<Figure size 640x480 with 1 Axes>"
            ],
            "image/png": "[encoded data removed]"
          },
          "metadata": {}
        }
      ]
    },
    {
      "cell_type": "markdown",
      "source": [
        "Finally, we format the data into columns of an array and save it as a comma separated file (.csv) with headings for each column."
      ],
      "metadata": {
        "id": "HbOeIwBqxAcj"
      }
    },
    {
      "cell_type": "code",
      "source": [
        "# Make an NumPy array where each row corresponds to one (x,y) point in the data set\n",
        "data_notebook_1 = np.array([x,y]).T\n",
        "\n",
        "# Save the data set as a .csv file, add header labels to the two columns\n",
        "pd.DataFrame(data_notebook_1).to_csv(data_dir+\"data_notebook_1.csv\", header=['x','y'],\\\n",
        "                                     index=False)"
      ],
      "metadata": {
        "id": "KdMDo4rxaB_O"
      },
      "execution_count": null,
      "outputs": []
    },
    {
      "cell_type": "markdown",
      "source": [
        "### Importing and Formatting Data with Pandas\n",
        "\n",
        "For many machine learning problems you will be working with a data set that has been gathered or generated previously and has been stored in a file.  A common way to import saved data into a Python program is using a library called Pandas.  When you import data from a file using Pandas it enters the program in a structure called a Pandas dataframe.  Dataframes have many nice feature for displaying and accessing data.\n",
        "\n",
        "Let's use the Pandas function `read_csv` to import the data set we created above as a data frame.  Then let's print the first few lines of the dataframe as a table to make sure everything has imported correctly."
      ],
      "metadata": {
        "id": "g2dg0sQOUSTn"
      }
    },
    {
      "cell_type": "code",
      "source": [
        "# Import the data set using Pandas.  The data set will now be formatted as a Pandas\n",
        "# dataframe\n",
        "data_set = pd.read_csv(data_dir+\"data_notebook_1.csv\",header=0)\n",
        "\n",
        "# Print the first few rows of the dataframe\n",
        "data_set.head()"
      ],
      "metadata": {
        "colab": {
          "base_uri": "https://localhost:8080/",
          "height": 206
        },
        "id": "RAbsKPOkb8FE",
        "outputId": "b3fb7767-7028-4d4d-bc21-2c8bff6caaa4"
      },
      "execution_count": null,
      "outputs": [
        {
          "output_type": "execute_result",
          "data": {
            "text/plain": [
              "      x       y\n",
              "0 -10.0  260.00\n",
              "1  -9.9  243.43\n",
              "2  -9.8  248.92\n",
              "3  -9.7  237.47\n",
              "4  -9.6  230.08"
            ],
            "text/html": [
              "\n",
              "  <div id=\"df-feaf3322-8aa1-4fc3-8855-3b01b2472fac\" class=\"colab-df-container\">\n",
              "    <div>\n",
              "<style scoped>\n",
              "    .dataframe tbody tr th:only-of-type {\n",
              "        vertical-align: middle;\n",
              "    }\n",
              "\n",
              "    .dataframe tbody tr th {\n",
              "        vertical-align: top;\n",
              "    }\n",
              "\n",
              "    .dataframe thead th {\n",
              "        text-align: right;\n",
              "    }\n",
              "</style>\n",
              "<table border=\"1\" class=\"dataframe\">\n",
              "  <thead>\n",
              "    <tr style=\"text-align: right;\">\n",
              "      <th></th>\n",
              "      <th>x</th>\n",
              "      <th>y</th>\n",
              "    </tr>\n",
              "  </thead>\n",
              "  <tbody>\n",
              "    <tr>\n",
              "      <th>0</th>\n",
              "      <td>-10.0</td>\n",
              "      <td>260.00</td>\n",
              "    </tr>\n",
              "    <tr>\n",
              "      <th>1</th>\n",
              "      <td>-9.9</td>\n",
              "      <td>243.43</td>\n",
              "    </tr>\n",
              "    <tr>\n",
              "      <th>2</th>\n",
              "      <td>-9.8</td>\n",
              "      <td>248.92</td>\n",
              "    </tr>\n",
              "    <tr>\n",
              "      <th>3</th>\n",
              "      <td>-9.7</td>\n",
              "      <td>237.47</td>\n",
              "    </tr>\n",
              "    <tr>\n",
              "      <th>4</th>\n",
              "      <td>-9.6</td>\n",
              "      <td>230.08</td>\n",
              "    </tr>\n",
              "  </tbody>\n",
              "</table>\n",
              "</div>\n",
              "    <div class=\"colab-df-buttons\">\n",
              "\n",
              "  <div class=\"colab-df-container\">\n",
              "    <button class=\"colab-df-convert\" onclick=\"convertToInteractive('df-feaf3322-8aa1-4fc3-8855-3b01b2472fac')\"\n",
              "            title=\"Convert this dataframe to an interactive table.\"\n",
              "            style=\"display:none;\">\n",
              "\n",
              "  <svg xmlns=\"http://www.w3.org/2000/svg\" height=\"24px\" viewBox=\"0 -960 960 960\">\n",
              "    <path d=\"M120-120v-720h720v720H120Zm60-500h600v-160H180v160Zm220 220h160v-160H400v160Zm0 220h160v-160H400v160ZM180-400h160v-160H180v160Zm440 0h160v-160H620v160ZM180-180h160v-160H180v160Zm440 0h160v-160H620v160Z\"/>\n",
              "  </svg>\n",
              "    </button>\n",
              "\n",
              "  <style>\n",
              "    .colab-df-container {\n",
              "      display:flex;\n",
              "      gap: 12px;\n",
              "    }\n",
              "\n",
              "    .colab-df-convert {\n",
              "      background-color: #E8F0FE;\n",
              "      border: none;\n",
              "      border-radius: 50%;\n",
              "      cursor: pointer;\n",
              "      display: none;\n",
              "      fill: #1967D2;\n",
              "      height: 32px;\n",
              "      padding: 0 0 0 0;\n",
              "      width: 32px;\n",
              "    }\n",
              "\n",
              "    .colab-df-convert:hover {\n",
              "      background-color: #E2EBFA;\n",
              "      box-shadow: 0px 1px 2px rgba(60, 64, 67, 0.3), 0px 1px 3px 1px rgba(60, 64, 67, 0.15);\n",
              "      fill: #174EA6;\n",
              "    }\n",
              "\n",
              "    .colab-df-buttons div {\n",
              "      margin-bottom: 4px;\n",
              "    }\n",
              "\n",
              "    [theme=dark] .colab-df-convert {\n",
              "      background-color: #3B4455;\n",
              "      fill: #D2E3FC;\n",
              "    }\n",
              "\n",
              "    [theme=dark] .colab-df-convert:hover {\n",
              "      background-color: #434B5C;\n",
              "      box-shadow: 0px 1px 3px 1px rgba(0, 0, 0, 0.15);\n",
              "      filter: drop-shadow(0px 1px 2px rgba(0, 0, 0, 0.3));\n",
              "      fill: #FFFFFF;\n",
              "    }\n",
              "  </style>\n",
              "\n",
              "    <script>\n",
              "      const buttonEl =\n",
              "        document.querySelector('#df-feaf3322-8aa1-4fc3-8855-3b01b2472fac button.colab-df-convert');\n",
              "      buttonEl.style.display =\n",
              "        google.colab.kernel.accessAllowed ? 'block' : 'none';\n",
              "\n",
              "      async function convertToInteractive(key) {\n",
              "        const element = document.querySelector('#df-feaf3322-8aa1-4fc3-8855-3b01b2472fac');\n",
              "        const dataTable =\n",
              "          await google.colab.kernel.invokeFunction('convertToInteractive',\n",
              "                                                    [key], {});\n",
              "        if (!dataTable) return;\n",
              "\n",
              "        const docLinkHtml = 'Like what you see? Visit the ' +\n",
              "          '<a target=\"_blank\" href=https://colab.research.google.com/notebooks/data_table.ipynb>data table notebook</a>'\n",
              "          + ' to learn more about interactive tables.';\n",
              "        element.innerHTML = '';\n",
              "        dataTable['output_type'] = 'display_data';\n",
              "        await google.colab.output.renderOutput(dataTable, element);\n",
              "        const docLink = document.createElement('div');\n",
              "        docLink.innerHTML = docLinkHtml;\n",
              "        element.appendChild(docLink);\n",
              "      }\n",
              "    </script>\n",
              "  </div>\n",
              "\n",
              "\n",
              "<div id=\"df-9f46ee8b-7526-4260-806f-a42846824bad\">\n",
              "  <button class=\"colab-df-quickchart\" onclick=\"quickchart('df-9f46ee8b-7526-4260-806f-a42846824bad')\"\n",
              "            title=\"Suggest charts\"\n",
              "            style=\"display:none;\">\n",
              "\n",
              "<svg xmlns=\"http://www.w3.org/2000/svg\" height=\"24px\"viewBox=\"0 0 24 24\"\n",
              "     width=\"24px\">\n",
              "    <g>\n",
              "        <path d=\"M19 3H5c-1.1 0-2 .9-2 2v14c0 1.1.9 2 2 2h14c1.1 0 2-.9 2-2V5c0-1.1-.9-2-2-2zM9 17H7v-7h2v7zm4 0h-2V7h2v10zm4 0h-2v-4h2v4z\"/>\n",
              "    </g>\n",
              "</svg>\n",
              "  </button>\n",
              "\n",
              "<style>\n",
              "  .colab-df-quickchart {\n",
              "      --bg-color: #E8F0FE;\n",
              "      --fill-color: #1967D2;\n",
              "      --hover-bg-color: #E2EBFA;\n",
              "      --hover-fill-color: #174EA6;\n",
              "      --disabled-fill-color: #AAA;\n",
              "      --disabled-bg-color: #DDD;\n",
              "  }\n",
              "\n",
              "  [theme=dark] .colab-df-quickchart {\n",
              "      --bg-color: #3B4455;\n",
              "      --fill-color: #D2E3FC;\n",
              "      --hover-bg-color: #434B5C;\n",
              "      --hover-fill-color: #FFFFFF;\n",
              "      --disabled-bg-color: #3B4455;\n",
              "      --disabled-fill-color: #666;\n",
              "  }\n",
              "\n",
              "  .colab-df-quickchart {\n",
              "    background-color: var(--bg-color);\n",
              "    border: none;\n",
              "    border-radius: 50%;\n",
              "    cursor: pointer;\n",
              "    display: none;\n",
              "    fill: var(--fill-color);\n",
              "    height: 32px;\n",
              "    padding: 0;\n",
              "    width: 32px;\n",
              "  }\n",
              "\n",
              "  .colab-df-quickchart:hover {\n",
              "    background-color: var(--hover-bg-color);\n",
              "    box-shadow: 0 1px 2px rgba(60, 64, 67, 0.3), 0 1px 3px 1px rgba(60, 64, 67, 0.15);\n",
              "    fill: var(--button-hover-fill-color);\n",
              "  }\n",
              "\n",
              "  .colab-df-quickchart-complete:disabled,\n",
              "  .colab-df-quickchart-complete:disabled:hover {\n",
              "    background-color: var(--disabled-bg-color);\n",
              "    fill: var(--disabled-fill-color);\n",
              "    box-shadow: none;\n",
              "  }\n",
              "\n",
              "  .colab-df-spinner {\n",
              "    border: 2px solid var(--fill-color);\n",
              "    border-color: transparent;\n",
              "    border-bottom-color: var(--fill-color);\n",
              "    animation:\n",
              "      spin 1s steps(1) infinite;\n",
              "  }\n",
              "\n",
              "  @keyframes spin {\n",
              "    0% {\n",
              "      border-color: transparent;\n",
              "      border-bottom-color: var(--fill-color);\n",
              "      border-left-color: var(--fill-color);\n",
              "    }\n",
              "    20% {\n",
              "      border-color: transparent;\n",
              "      border-left-color: var(--fill-color);\n",
              "      border-top-color: var(--fill-color);\n",
              "    }\n",
              "    30% {\n",
              "      border-color: transparent;\n",
              "      border-left-color: var(--fill-color);\n",
              "      border-top-color: var(--fill-color);\n",
              "      border-right-color: var(--fill-color);\n",
              "    }\n",
              "    40% {\n",
              "      border-color: transparent;\n",
              "      border-right-color: var(--fill-color);\n",
              "      border-top-color: var(--fill-color);\n",
              "    }\n",
              "    60% {\n",
              "      border-color: transparent;\n",
              "      border-right-color: var(--fill-color);\n",
              "    }\n",
              "    80% {\n",
              "      border-color: transparent;\n",
              "      border-right-color: var(--fill-color);\n",
              "      border-bottom-color: var(--fill-color);\n",
              "    }\n",
              "    90% {\n",
              "      border-color: transparent;\n",
              "      border-bottom-color: var(--fill-color);\n",
              "    }\n",
              "  }\n",
              "</style>\n",
              "\n",
              "  <script>\n",
              "    async function quickchart(key) {\n",
              "      const quickchartButtonEl =\n",
              "        document.querySelector('#' + key + ' button');\n",
              "      quickchartButtonEl.disabled = true;  // To prevent multiple clicks.\n",
              "      quickchartButtonEl.classList.add('colab-df-spinner');\n",
              "      try {\n",
              "        const charts = await google.colab.kernel.invokeFunction(\n",
              "            'suggestCharts', [key], {});\n",
              "      } catch (error) {\n",
              "        console.error('Error during call to suggestCharts:', error);\n",
              "      }\n",
              "      quickchartButtonEl.classList.remove('colab-df-spinner');\n",
              "      quickchartButtonEl.classList.add('colab-df-quickchart-complete');\n",
              "    }\n",
              "    (() => {\n",
              "      let quickchartButtonEl =\n",
              "        document.querySelector('#df-9f46ee8b-7526-4260-806f-a42846824bad button');\n",
              "      quickchartButtonEl.style.display =\n",
              "        google.colab.kernel.accessAllowed ? 'block' : 'none';\n",
              "    })();\n",
              "  </script>\n",
              "</div>\n",
              "\n",
              "    </div>\n",
              "  </div>\n"
            ],
            "application/vnd.google.colaboratory.intrinsic+json": {
              "type": "dataframe",
              "variable_name": "data_set",
              "summary": "{\n  \"name\": \"data_set\",\n  \"rows\": 200,\n  \"fields\": [\n    {\n      \"column\": \"x\",\n      \"properties\": {\n        \"dtype\": \"number\",\n        \"std\": 5.787918451395092,\n        \"min\": -10.0,\n        \"max\": 9.899999999999928,\n        \"num_unique_values\": 200,\n        \"samples\": [\n          -0.5000000000000338,\n          -8.500000000000005,\n          -7.000000000000011\n        ],\n        \"semantic_type\": \"\",\n        \"description\": \"\"\n      }\n    },\n    {\n      \"column\": \"y\",\n      \"properties\": {\n        \"dtype\": \"number\",\n        \"std\": 91.98842643501291,\n        \"min\": -16.279999999999973,\n        \"max\": 328.62999999999545,\n        \"num_unique_values\": 200,\n        \"samples\": [\n          -11.250000000000034,\n          182.75000000000023,\n          108.0000000000004\n        ],\n        \"semantic_type\": \"\",\n        \"description\": \"\"\n      }\n    }\n  ]\n}"
            }
          },
          "metadata": {},
          "execution_count": 53
        }
      ]
    },
    {
      "cell_type": "markdown",
      "source": [
        "Using a Pandas dataframe makes it very easy to access the individual columns. A Pandas dataframe works like a Python dictionary, with the names of each column being the keys of the dictionary.  The entry for each key is the column of data the label corresponds to.  For example, we can access the data in the first column, x, using the following code."
      ],
      "metadata": {
        "id": "dbq9ipulTljv"
      }
    },
    {
      "cell_type": "code",
      "source": [
        "# Print the column of the dataframe that corresponds to the column label 'x'\n",
        "data_set['x']"
      ],
      "metadata": {
        "colab": {
          "base_uri": "https://localhost:8080/"
        },
        "id": "VhxUGsfLmO2c",
        "outputId": "612aa170-3d33-4e34-bcf4-556533bc451b"
      },
      "execution_count": null,
      "outputs": [
        {
          "output_type": "execute_result",
          "data": {
            "text/plain": [
              "0     -10.0\n",
              "1      -9.9\n",
              "2      -9.8\n",
              "3      -9.7\n",
              "4      -9.6\n",
              "       ... \n",
              "195     9.5\n",
              "196     9.6\n",
              "197     9.7\n",
              "198     9.8\n",
              "199     9.9\n",
              "Name: x, Length: 200, dtype: float64"
            ]
          },
          "metadata": {},
          "execution_count": 12
        }
      ]
    },
    {
      "cell_type": "markdown",
      "source": [
        "It is also possible to extract individual data points from a column using array indexing.  The first data point in the x data set can be accessed using the below code."
      ],
      "metadata": {
        "id": "r7xJKhzRT5tR"
      }
    },
    {
      "cell_type": "code",
      "source": [
        "# Extract the first point in the x data set\n",
        "data_set['x'][0]"
      ],
      "metadata": {
        "colab": {
          "base_uri": "https://localhost:8080/"
        },
        "id": "3kPWQc5mmRu_",
        "outputId": "1cf4c7d1-8abe-4db1-dd19-89412f077bb2"
      },
      "execution_count": null,
      "outputs": [
        {
          "output_type": "execute_result",
          "data": {
            "text/plain": [
              "-10.0"
            ]
          },
          "metadata": {},
          "execution_count": 13
        }
      ]
    },
    {
      "cell_type": "markdown",
      "source": [
        "**PROBLEM 2:** In the below code cell, print the y column of the data set.  On the next line print the 10th element of the y data set (remember that array indexing starts from 0)."
      ],
      "metadata": {
        "id": "3osB8-eaUCqG"
      }
    },
    {
      "cell_type": "code",
      "source": [
        "data_set['y']\n",
        "data_set['y'][9]"
      ],
      "metadata": {
        "id": "4w8lCbt7UC7Z",
        "colab": {
          "base_uri": "https://localhost:8080/"
        },
        "outputId": "648c4b29-20ab-4e78-c805-c9fa4f075a64"
      },
      "execution_count": null,
      "outputs": [
        {
          "output_type": "execute_result",
          "data": {
            "text/plain": [
              "205.03000000000017"
            ]
          },
          "metadata": {},
          "execution_count": 19
        }
      ]
    },
    {
      "cell_type": "markdown",
      "source": [
        "Though Pandas dataframes are convinient for displaying data, many machine learning packges require the data set to be split into two separate NumPy arrays, one for the x component of the data set and one for the y component of the data set.  Luckily, there is a NumPy function called `asarray` which will convert the columns of the dataframe into NumPy arrays."
      ],
      "metadata": {
        "id": "9hZhj5NB1RZE"
      }
    },
    {
      "cell_type": "code",
      "source": [
        "# Convert the columns of the Pandas dataframe to NumPy arrays to more\n",
        "# easily manipulate the data\n",
        "X = np.asarray(data_set['x'])\n",
        "y = np.asarray(data_set['y'])"
      ],
      "metadata": {
        "id": "ydtnJBTmmYMT"
      },
      "execution_count": null,
      "outputs": []
    },
    {
      "cell_type": "markdown",
      "source": [
        "### Training and Test Data Sets with Scikit-Learn\n",
        "\n",
        "The most common way to perform a training/test split is to use the function form the Scikit-Learn library called `training_test_split`.  In general this function takes three arguments: the x component of the dat set, the y component of the data set, and a number between 0.0 and 1.0 called `test_size`.  This number dictates the fraction of the data set which is to be used as the test set.  In this case, 20% of the overall data set will be devoted to the test set.  The `training_test_split` randomly splits the data between the training and test sets.\n",
        "\n",
        "The function returns 4 data sets as NumPy arrays, in order: the x component of the training set, the x component of the test set, the y component of the training set, and the y component of the test set.\n",
        "\n",
        "Below we will use `train_test_split` to create our training and test data sets."
      ],
      "metadata": {
        "id": "nObNKokxUams"
      }
    },
    {
      "cell_type": "code",
      "source": [
        "# Using the Scikit-Learn package, split the data set into a training set and a\n",
        "# test set\n",
        "X_train, X_test, y_train, y_test = train_test_split(X, y, test_size=0.2)"
      ],
      "metadata": {
        "id": "dlTb_MQZm6Q2"
      },
      "execution_count": null,
      "outputs": []
    },
    {
      "cell_type": "markdown",
      "source": [
        "Let's graph the training and test data sets on the same graph to see if the training data set seems like it will be a good representation of the test data set."
      ],
      "metadata": {
        "id": "Y_-eUIee9BXc"
      }
    },
    {
      "cell_type": "code",
      "source": [
        "# Plot the training data and the test data on the same plot\n",
        "plt.scatter(X_train, y_train, color='blue', s=50, label=\"Training\")\n",
        "plt.scatter(X_test, y_test, color='red', marker='^',s=50, label=\"Test\")\n",
        "plt.legend()\n",
        "plt.xlabel('x')\n",
        "plt.ylabel('y')"
      ],
      "metadata": {
        "colab": {
          "base_uri": "https://localhost:8080/",
          "height": 468
        },
        "id": "PsXwRUA-nED1",
        "outputId": "32976c38-7072-4574-f58c-31357687d84c"
      },
      "execution_count": null,
      "outputs": [
        {
          "output_type": "execute_result",
          "data": {
            "text/plain": [
              "Text(0, 0.5, 'y')"
            ]
          },
          "metadata": {},
          "execution_count": 27
        },
        {
          "output_type": "display_data",
          "data": {
            "text/plain": [
              "<Figure size 640x480 with 1 Axes>"
            ],
            "image/png": "[encoded data removed]"
          },
          "metadata": {}
        }
      ]
    },
    {
      "cell_type": "markdown",
      "source": [
        "**PROBLEM 3:** Does the test data set appear to be a good representation of the total data set?  Do you notice a difference if you run the `train_test_split` cell and the graphing cell again? Explain your answer in the text cell below."
      ],
      "metadata": {
        "id": "KxyRUDP6OpOH"
      }
    },
    {
      "cell_type": "markdown",
      "source": [],
      "metadata": {
        "id": "bZAEYR0vOpWz"
      }
    },
    {
      "cell_type": "markdown",
      "source": [
        "### Linear Regression with Scikit-Learn\n",
        "\n",
        "First, we must reshape the x components of the training and test data sets.  Machine learning algorithms that are provided by Scikit-Learn (and other machine learning libraries like Keras) require the data to have specific shapes.  For an x data set which only has one dimension (i.e. one x value for each y value), it will need to reshaped like this:"
      ],
      "metadata": {
        "id": "19il1YLXUfPi"
      }
    },
    {
      "cell_type": "code",
      "source": [
        "# Reshape the x components of the data sets to meet Scikit-Learn's\n",
        "# specifications\n",
        "X_train = X_train.reshape(-1,1)\n",
        "X_test = X_test.reshape(-1,1)"
      ],
      "metadata": {
        "id": "DH0i1hmvnTQX"
      },
      "execution_count": null,
      "outputs": []
    },
    {
      "cell_type": "markdown",
      "source": [
        "The next is to define the linear regression algorithm using Scikit-Learn's package and then train the linear regression algorithm with the training data.  Scikit-Learn makes it very easy, only requiring two lines of code.  Here we have set the argument `fit_intercept` to False when defining the linear regression algorithm.  This will be explained later in the notebook."
      ],
      "metadata": {
        "id": "qRqefZZ9-3bf"
      }
    },
    {
      "cell_type": "code",
      "source": [
        "# Define the linear regression algorithm and train it using the training data\n",
        "LiR = LinearRegression(fit_intercept=False)\n",
        "LiR.fit(X_train, y_train)"
      ],
      "metadata": {
        "colab": {
          "base_uri": "https://localhost:8080/",
          "height": 1000
        },
        "id": "EmybiVf6nLwB",
        "outputId": "fc6d994a-b66e-4abe-d80b-cfb42fe8f786"
      },
      "execution_count": null,
      "outputs": [
        {
          "output_type": "error",
          "ename": "ValueError",
          "evalue": "Expected 2D array, got 1D array instead:\narray=[ 6.00000000e+00  5.30000000e+00  9.60000000e+00 -1.80000000e+00\n -3.50000000e+00  3.00000000e+00  4.80000000e+00 -1.40000000e+00\n  1.90000000e+00 -4.40000000e+00 -7.40000000e+00 -9.70000000e+00\n  3.50000000e+00 -5.90000000e+00 -8.40000000e+00  1.80000000e+00\n -4.80000000e+00  3.30000000e+00  6.30000000e+00 -5.50000000e+00\n  1.50000000e+00 -9.00000000e-01  1.70000000e+00  1.40000000e+00\n  7.20000000e+00 -8.00000000e-01 -1.00000000e+00  2.70000000e+00\n -7.80000000e+00 -5.30000000e+00  2.50000000e+00 -2.10000000e+00\n  7.00000000e-01 -8.60000000e+00  8.50000000e+00  9.50000000e+00\n  2.00000000e-01 -6.00000000e+00  1.10000000e+00  1.00000000e+00\n -7.70000000e+00  5.00000000e-01  3.00000000e-01  4.10000000e+00\n -6.00000000e-01 -4.20000000e+00 -7.10000000e+00 -8.20000000e+00\n  3.40000000e+00 -9.60000000e+00  3.20000000e+00  6.20000000e+00\n  1.00000000e-01  8.40000000e+00 -4.00000000e+00 -6.50000000e+00\n  6.40000000e+00 -3.90000000e+00  7.30000000e+00 -7.50000000e+00\n  6.00000000e-01  5.10000000e+00  5.70000000e+00  1.20000000e+00\n  9.00000000e-01  3.10000000e+00  2.80000000e+00  9.90000000e+00\n -2.80000000e+00 -5.10000000e+00 -3.80000000e+00 -3.70000000e+00\n  6.90000000e+00  2.40000000e+00 -1.30000000e+00  9.40000000e+00\n  5.00000000e+00  2.90000000e+00 -3.20000000e+00 -8.90000000e+00\n -2.20000000e+00  4.30000000e+00  3.90000000e+00  6.80000000e+00\n -9.50000000e+00  8.00000000e+00 -8.10000000e+00  8.00000000e-01\n -6.90000000e+00  7.80000000e+00 -6.40000000e+00 -5.20000000e+00\n  6.10000000e+00 -5.00000000e+00  3.60000000e+00  7.50000000e+00\n  9.00000000e+00  7.70000000e+00  5.20000000e+00  7.60000000e+00\n -6.60000000e+00  1.60000000e+00 -8.00000000e+00  9.20000000e+00\n  2.30000000e+00 -2.30000000e+00 -9.30000000e+00  8.70000000e+00\n  4.90000000e+00  6.70000000e+00 -3.00000000e-01 -7.00000000e+00\n -5.40000000e+00 -6.30000000e+00 -1.10000000e+00 -6.10000000e+00\n -2.70000000e+00 -1.50000000e+00 -4.50000000e+00  7.40000000e+00\n  7.00000000e+00  5.40000000e+00 -4.70000000e+00  3.80000000e+00\n -2.00000000e+00  2.00000000e+00 -3.55271368e-14  2.10000000e+00\n -1.00000000e-01 -5.60000000e+00 -2.60000000e+00 -6.80000000e+00\n  2.20000000e+00 -8.50000000e+00 -3.40000000e+00 -8.30000000e+00\n -9.80000000e+00  9.70000000e+00 -5.00000000e-01  9.30000000e+00\n -2.90000000e+00 -6.70000000e+00  5.50000000e+00  4.00000000e-01\n  3.70000000e+00 -2.00000000e-01 -3.60000000e+00  5.90000000e+00\n  5.80000000e+00  4.50000000e+00].\nReshape your data either using array.reshape(-1, 1) if your data has a single feature or array.reshape(1, -1) if it contains a single sample.",
          "traceback": [
            "\u001b[0;31m---------------------------------------------------------------------------\u001b[0m",
            "\u001b[0;31mValueError\u001b[0m                                Traceback (most recent call last)",
            "\u001b[0;32m<ipython-input-63-a12bfd790e9f>\u001b[0m in \u001b[0;36m<cell line: 3>\u001b[0;34m()\u001b[0m\n\u001b[1;32m      1\u001b[0m \u001b[0;31m# Define the linear regression algorithm and train it using the training data\u001b[0m\u001b[0;34m\u001b[0m\u001b[0;34m\u001b[0m\u001b[0m\n\u001b[1;32m      2\u001b[0m \u001b[0mLiR\u001b[0m \u001b[0;34m=\u001b[0m \u001b[0mLinearRegression\u001b[0m\u001b[0;34m(\u001b[0m\u001b[0mfit_intercept\u001b[0m\u001b[0;34m=\u001b[0m\u001b[0;32mFalse\u001b[0m\u001b[0;34m)\u001b[0m\u001b[0;34m\u001b[0m\u001b[0;34m\u001b[0m\u001b[0m\n\u001b[0;32m----> 3\u001b[0;31m \u001b[0mLiR\u001b[0m\u001b[0;34m.\u001b[0m\u001b[0mfit\u001b[0m\u001b[0;34m(\u001b[0m\u001b[0mX_train\u001b[0m\u001b[0;34m,\u001b[0m \u001b[0my_train\u001b[0m\u001b[0;34m)\u001b[0m\u001b[0;34m\u001b[0m\u001b[0;34m\u001b[0m\u001b[0m\n\u001b[0m",
            "\u001b[0;32m/usr/local/lib/python3.10/dist-packages/sklearn/linear_model/_base.py\u001b[0m in \u001b[0;36mfit\u001b[0;34m(self, X, y, sample_weight)\u001b[0m\n\u001b[1;32m    646\u001b[0m         \u001b[0maccept_sparse\u001b[0m \u001b[0;34m=\u001b[0m \u001b[0;32mFalse\u001b[0m \u001b[0;32mif\u001b[0m \u001b[0mself\u001b[0m\u001b[0;34m.\u001b[0m\u001b[0mpositive\u001b[0m \u001b[0;32melse\u001b[0m \u001b[0;34m[\u001b[0m\u001b[0;34m\"csr\"\u001b[0m\u001b[0;34m,\u001b[0m \u001b[0;34m\"csc\"\u001b[0m\u001b[0;34m,\u001b[0m \u001b[0;34m\"coo\"\u001b[0m\u001b[0;34m]\u001b[0m\u001b[0;34m\u001b[0m\u001b[0;34m\u001b[0m\u001b[0m\n\u001b[1;32m    647\u001b[0m \u001b[0;34m\u001b[0m\u001b[0m\n\u001b[0;32m--> 648\u001b[0;31m         X, y = self._validate_data(\n\u001b[0m\u001b[1;32m    649\u001b[0m             \u001b[0mX\u001b[0m\u001b[0;34m,\u001b[0m \u001b[0my\u001b[0m\u001b[0;34m,\u001b[0m \u001b[0maccept_sparse\u001b[0m\u001b[0;34m=\u001b[0m\u001b[0maccept_sparse\u001b[0m\u001b[0;34m,\u001b[0m \u001b[0my_numeric\u001b[0m\u001b[0;34m=\u001b[0m\u001b[0;32mTrue\u001b[0m\u001b[0;34m,\u001b[0m \u001b[0mmulti_output\u001b[0m\u001b[0;34m=\u001b[0m\u001b[0;32mTrue\u001b[0m\u001b[0;34m\u001b[0m\u001b[0;34m\u001b[0m\u001b[0m\n\u001b[1;32m    650\u001b[0m         )\n",
            "\u001b[0;32m/usr/local/lib/python3.10/dist-packages/sklearn/base.py\u001b[0m in \u001b[0;36m_validate_data\u001b[0;34m(self, X, y, reset, validate_separately, **check_params)\u001b[0m\n\u001b[1;32m    582\u001b[0m                 \u001b[0my\u001b[0m \u001b[0;34m=\u001b[0m \u001b[0mcheck_array\u001b[0m\u001b[0;34m(\u001b[0m\u001b[0my\u001b[0m\u001b[0;34m,\u001b[0m \u001b[0minput_name\u001b[0m\u001b[0;34m=\u001b[0m\u001b[0;34m\"y\"\u001b[0m\u001b[0;34m,\u001b[0m \u001b[0;34m**\u001b[0m\u001b[0mcheck_y_params\u001b[0m\u001b[0;34m)\u001b[0m\u001b[0;34m\u001b[0m\u001b[0;34m\u001b[0m\u001b[0m\n\u001b[1;32m    583\u001b[0m             \u001b[0;32melse\u001b[0m\u001b[0;34m:\u001b[0m\u001b[0;34m\u001b[0m\u001b[0;34m\u001b[0m\u001b[0m\n\u001b[0;32m--> 584\u001b[0;31m                 \u001b[0mX\u001b[0m\u001b[0;34m,\u001b[0m \u001b[0my\u001b[0m \u001b[0;34m=\u001b[0m \u001b[0mcheck_X_y\u001b[0m\u001b[0;34m(\u001b[0m\u001b[0mX\u001b[0m\u001b[0;34m,\u001b[0m \u001b[0my\u001b[0m\u001b[0;34m,\u001b[0m \u001b[0;34m**\u001b[0m\u001b[0mcheck_params\u001b[0m\u001b[0;34m)\u001b[0m\u001b[0;34m\u001b[0m\u001b[0;34m\u001b[0m\u001b[0m\n\u001b[0m\u001b[1;32m    585\u001b[0m             \u001b[0mout\u001b[0m \u001b[0;34m=\u001b[0m \u001b[0mX\u001b[0m\u001b[0;34m,\u001b[0m \u001b[0my\u001b[0m\u001b[0;34m\u001b[0m\u001b[0;34m\u001b[0m\u001b[0m\n\u001b[1;32m    586\u001b[0m \u001b[0;34m\u001b[0m\u001b[0m\n",
            "\u001b[0;32m/usr/local/lib/python3.10/dist-packages/sklearn/utils/validation.py\u001b[0m in \u001b[0;36mcheck_X_y\u001b[0;34m(X, y, accept_sparse, accept_large_sparse, dtype, order, copy, force_all_finite, ensure_2d, allow_nd, multi_output, ensure_min_samples, ensure_min_features, y_numeric, estimator)\u001b[0m\n\u001b[1;32m   1104\u001b[0m         )\n\u001b[1;32m   1105\u001b[0m \u001b[0;34m\u001b[0m\u001b[0m\n\u001b[0;32m-> 1106\u001b[0;31m     X = check_array(\n\u001b[0m\u001b[1;32m   1107\u001b[0m         \u001b[0mX\u001b[0m\u001b[0;34m,\u001b[0m\u001b[0;34m\u001b[0m\u001b[0;34m\u001b[0m\u001b[0m\n\u001b[1;32m   1108\u001b[0m         \u001b[0maccept_sparse\u001b[0m\u001b[0;34m=\u001b[0m\u001b[0maccept_sparse\u001b[0m\u001b[0;34m,\u001b[0m\u001b[0;34m\u001b[0m\u001b[0;34m\u001b[0m\u001b[0m\n",
            "\u001b[0;32m/usr/local/lib/python3.10/dist-packages/sklearn/utils/validation.py\u001b[0m in \u001b[0;36mcheck_array\u001b[0;34m(array, accept_sparse, accept_large_sparse, dtype, order, copy, force_all_finite, ensure_2d, allow_nd, ensure_min_samples, ensure_min_features, estimator, input_name)\u001b[0m\n\u001b[1;32m    900\u001b[0m             \u001b[0;31m# If input is 1D raise error\u001b[0m\u001b[0;34m\u001b[0m\u001b[0;34m\u001b[0m\u001b[0m\n\u001b[1;32m    901\u001b[0m             \u001b[0;32mif\u001b[0m \u001b[0marray\u001b[0m\u001b[0;34m.\u001b[0m\u001b[0mndim\u001b[0m \u001b[0;34m==\u001b[0m \u001b[0;36m1\u001b[0m\u001b[0;34m:\u001b[0m\u001b[0;34m\u001b[0m\u001b[0;34m\u001b[0m\u001b[0m\n\u001b[0;32m--> 902\u001b[0;31m                 raise ValueError(\n\u001b[0m\u001b[1;32m    903\u001b[0m                     \u001b[0;34m\"Expected 2D array, got 1D array instead:\\narray={}.\\n\"\u001b[0m\u001b[0;34m\u001b[0m\u001b[0;34m\u001b[0m\u001b[0m\n\u001b[1;32m    904\u001b[0m                     \u001b[0;34m\"Reshape your data either using array.reshape(-1, 1) if \"\u001b[0m\u001b[0;34m\u001b[0m\u001b[0;34m\u001b[0m\u001b[0m\n",
            "\u001b[0;31mValueError\u001b[0m: Expected 2D array, got 1D array instead:\narray=[ 6.00000000e+00  5.30000000e+00  9.60000000e+00 -1.80000000e+00\n -3.50000000e+00  3.00000000e+00  4.80000000e+00 -1.40000000e+00\n  1.90000000e+00 -4.40000000e+00 -7.40000000e+00 -9.70000000e+00\n  3.50000000e+00 -5.90000000e+00 -8.40000000e+00  1.80000000e+00\n -4.80000000e+00  3.30000000e+00  6.30000000e+00 -5.50000000e+00\n  1.50000000e+00 -9.00000000e-01  1.70000000e+00  1.40000000e+00\n  7.20000000e+00 -8.00000000e-01 -1.00000000e+00  2.70000000e+00\n -7.80000000e+00 -5.30000000e+00  2.50000000e+00 -2.10000000e+00\n  7.00000000e-01 -8.60000000e+00  8.50000000e+00  9.50000000e+00\n  2.00000000e-01 -6.00000000e+00  1.10000000e+00  1.00000000e+00\n -7.70000000e+00  5.00000000e-01  3.00000000e-01  4.10000000e+00\n -6.00000000e-01 -4.20000000e+00 -7.10000000e+00 -8.20000000e+00\n  3.40000000e+00 -9.60000000e+00  3.20000000e+00  6.20000000e+00\n  1.00000000e-01  8.40000000e+00 -4.00000000e+00 -6.50000000e+00\n  6.40000000e+00 -3.90000000e+00  7.30000000e+00 -7.50000000e+00\n  6.00000000e-01  5.10000000e+00  5.70000000e+00  1.20000000e+00\n  9.00000000e-01  3.10000000e+00  2.80000000e+00  9.90000000e+00\n -2.80000000e+00 -5.10000000e+00 -3.80000000e+00 -3.70000000e+00\n  6.90000000e+00  2.40000000e+00 -1.30000000e+00  9.40000000e+00\n  5.00000000e+00  2.90000000e+00 -3.20000000e+00 -8.90000000e+00\n -2.20000000e+00  4.30000000e+00  3.90000000e+00  6.80000000e+00\n -9.50000000e+00  8.00000000e+00 -8.10000000e+00  8.00000000e-01\n -6.90000000e+00  7.80000000e+00 -6.40000000e+00 -5.20000000e+00\n  6.10000000e+00 -5.00000000e+00  3.60000000e+00  7.50000000e+00\n  9.00000000e+00  7.70000000e+00  5.20000000e+00  7.60000000e+00\n -6.60000000e+00  1.60000000e+00 -8.00000000e+00  9.20000000e+00\n  2.30000000e+00 -2.30000000e+00 -9.30000000e+00  8.70000000e+00\n  4.90000000e+00  6.70000000e+00 -3.00000000e-01 -7.00000000e+00\n -5.40000000e+00 -6.30000000e+00 -1.10000000e+00 -6.10000000e+00\n -2.70000000e+00 -1.50000000e+00 -4.50000000e+00  7.40000000e+00\n  7.00000000e+00  5.40000000e+00 -4.70000000e+00  3.80000000e+00\n -2.00000000e+00  2.00000000e+00 -3.55271368e-14  2.10000000e+00\n -1.00000000e-01 -5.60000000e+00 -2.60000000e+00 -6.80000000e+00\n  2.20000000e+00 -8.50000000e+00 -3.40000000e+00 -8.30000000e+00\n -9.80000000e+00  9.70000000e+00 -5.00000000e-01  9.30000000e+00\n -2.90000000e+00 -6.70000000e+00  5.50000000e+00  4.00000000e-01\n  3.70000000e+00 -2.00000000e-01 -3.60000000e+00  5.90000000e+00\n  5.80000000e+00  4.50000000e+00].\nReshape your data either using array.reshape(-1, 1) if your data has a single feature or array.reshape(1, -1) if it contains a single sample."
          ]
        }
      ]
    },
    {
      "cell_type": "markdown",
      "source": [
        "Finally, we will used the train linear regression model to predict the y values that correspond to the x values in the test data set.  We will store the results in the NumPy array `y_pred` to be compared to `y_test` in the next section."
      ],
      "metadata": {
        "id": "3cnlWXSe_cve"
      }
    },
    {
      "cell_type": "code",
      "source": [
        "# Used the trained algorithm to predict what y values correspond to the x component of\n",
        "# the test data set\n",
        "y_pred = LiR.predict(X_test)"
      ],
      "metadata": {
        "id": "wRvu2vXFnlCv"
      },
      "execution_count": null,
      "outputs": []
    },
    {
      "cell_type": "markdown",
      "source": [
        "### Evaluating Model Performance with NumPy and Matplotlib\n",
        "\n",
        "After the test data set has been evaluated using the trained model, the next step in the machine learning workflow is to evaluate its performance.  We will do this by comparing the known y data points (stored in `y_test`) to the y data points that have been predicted by the trained linear regression algorithm (stored in `y_pred`).\n",
        "\n",
        "One common measure of error used in machine learning workflows is called the mean-squared error (MSE), which can be defined in equation form as:\n",
        "\n",
        "$$MSE(y_{test}, \\hat{y}_{pred}) = \\frac{1}{N}\\sum_{i=1}^N (y_{test,i} - \\hat{y}_{pred,i})^2,$$\n",
        "\n",
        "where N is the number of data points, $y_{test}$ are the known data points (stored in `y_test`), and $\\hat{y}_{pred}$ are the predicted data points (stored in `y_pred`).  Conceptually we can think if the MSE as the average error of each predicted data point, squared.\n",
        "\n",
        "In Python, we can make use of the library NumPy to create a function that calculates the MSE between two NumPy arrays.  This is shown below in the next code cell.\n",
        "\n",
        "**PROBLEM 4:** Go through the below code cell and make sure you understand how it related to the MSE equation given above.  Create new code cells below it to examine it performance if needed."
      ],
      "metadata": {
        "id": "vt-ee_YCUib5"
      }
    },
    {
      "cell_type": "code",
      "source": [
        "##############################\n",
        "##            MSE           ##\n",
        "##############################\n",
        "def mse(A, B):\n",
        "    \"\"\"\n",
        "        Inputs:\n",
        "            A,B: NumPy arrays of the same length\n",
        "        Returns:\n",
        "            Unnamed: the mean-squared error between A and B\n",
        "        Calculates and returns the mean-squared error between the given Numpy arrays.\n",
        "        Note that A and B must be the same length.\n",
        "    \"\"\"\n",
        "    return np.average((A-B)**2)"
      ],
      "metadata": {
        "id": "hbWwqfcsnqKb"
      },
      "execution_count": null,
      "outputs": []
    },
    {
      "cell_type": "markdown",
      "source": [
        "Let's print the MSE between the known data points, `y_test`, and the predicted data points, `y_pred`."
      ],
      "metadata": {
        "id": "Pt-JTiyUAKL4"
      }
    },
    {
      "cell_type": "code",
      "source": [
        "print(\"The MSE between the test data set and the predicted data set is:\",\\\n",
        "      mse(y_pred, y_test))"
      ],
      "metadata": {
        "colab": {
          "base_uri": "https://localhost:8080/"
        },
        "id": "i33-xwZ7nv4X",
        "outputId": "7ce31ed9-5896-45e2-aefc-de34d9123682"
      },
      "execution_count": null,
      "outputs": [
        {
          "output_type": "stream",
          "name": "stdout",
          "text": [
            "The MSE between the test data set and the predicted data set is: 18289.44575470391\n"
          ]
        }
      ]
    },
    {
      "cell_type": "markdown",
      "source": [
        "The smaller the MSE is the closer the known data set matches the predicted data set.  However, if the values in the data set are quite large then even comparatively small deviations in values can results in a large MSE error.  Sometimes an easier to understand metric is the root mean-squared error (RMSE), which is simply defined as the square root of the MSE:\n",
        "\n",
        "$$RMSE(y_{test}, \\hat{y}_{pred}) = \\sqrt{\\frac{1}{N}\\sum_{i=1}^N (y_{test,i} - \\hat{y}_{pred,i})^2}.$$\n",
        "\n",
        "Conceptually we can think of this metric as the average error each of the predicted data points has.\n",
        "\n",
        "We can print the RMSE for our machine learning algorithm simply by taking the square root of the MSE."
      ],
      "metadata": {
        "id": "JbXOjYnhAiOt"
      }
    },
    {
      "cell_type": "code",
      "source": [
        "print(\"The RMSE between the test data set and the predicted data set is:\",\\\n",
        "      np.sqrt(mse(y_pred, y_test)))"
      ],
      "metadata": {
        "colab": {
          "base_uri": "https://localhost:8080/"
        },
        "id": "eg0-iO9rqMEr",
        "outputId": "e89e05be-5b1c-4351-f3d4-4a1e4f201c97"
      },
      "execution_count": null,
      "outputs": [
        {
          "output_type": "stream",
          "name": "stdout",
          "text": [
            "The RMSE between the test data set and the predicted data set is: 135.23847734540607\n"
          ]
        }
      ]
    },
    {
      "cell_type": "markdown",
      "source": [
        "This RMSE score is still quite large, especially if we compare it to the average value of the y data set."
      ],
      "metadata": {
        "id": "ihwMV1m5AjOR"
      }
    },
    {
      "cell_type": "code",
      "source": [
        "print(\"The average value of the y data set is:\", np.average(y))"
      ],
      "metadata": {
        "colab": {
          "base_uri": "https://localhost:8080/"
        },
        "id": "qRvOAwVtT_jz",
        "outputId": "7ba6d7f2-a99e-40e5-f43e-3ed9cdddcee2"
      },
      "execution_count": null,
      "outputs": [
        {
          "output_type": "stream",
          "name": "stdout",
          "text": [
            "The average value of the y data set is: 94.18499999999916\n"
          ]
        }
      ]
    },
    {
      "cell_type": "markdown",
      "source": [
        "The exact error and average of the data set will change each time you run the notebook since the noise addition and train/test split are randomized, but you should see that the RMSE error is equivalent if not larger than the average value of the y data set.\n",
        "\n",
        "Finally, let's graph the known data set and the predicted data set on the same graph to see how they compare."
      ],
      "metadata": {
        "id": "2VXukjIUaAPg"
      }
    },
    {
      "cell_type": "code",
      "source": [
        "# Plot the test data set and the predicted data set on the same graph\n",
        "plt.scatter(X_test, y_test, color=\"blue\", s=50, label=\"Test Data\")\n",
        "plt.scatter(X_test, y_pred, color='red', marker='^', s=50, label=\"Predicted Data\")\n",
        "plt.legend()\n",
        "plt.xlabel(\"x\")\n",
        "plt.ylabel(\"y\")"
      ],
      "metadata": {
        "colab": {
          "base_uri": "https://localhost:8080/",
          "height": 468
        },
        "id": "C7dziyb0oz2o",
        "outputId": "4c5e5fad-50d9-41b3-f4b6-c8d4022fab36"
      },
      "execution_count": null,
      "outputs": [
        {
          "output_type": "execute_result",
          "data": {
            "text/plain": [
              "Text(0, 0.5, 'y')"
            ]
          },
          "metadata": {},
          "execution_count": 36
        },
        {
          "output_type": "display_data",
          "data": {
            "text/plain": [
              "<Figure size 640x480 with 1 Axes>"
            ],
            "image/png": "[encoded data removed]"
          },
          "metadata": {}
        }
      ]
    },
    {
      "cell_type": "markdown",
      "source": [
        "**PROBLEM 5:** Does the model appear to be a good match for the data set? Do the predictions from the linear regression algorithm make since? How could the model be improved?  Explain your answer in the text cell below."
      ],
      "metadata": {
        "id": "vBfdusRgZaU8"
      }
    },
    {
      "cell_type": "markdown",
      "source": [],
      "metadata": {
        "id": "eL4g_jJGZaeB"
      }
    },
    {
      "cell_type": "markdown",
      "source": [
        "### Improve the Model's Performance: Design Matrices\n",
        "\n",
        "If we analyze a bit closer how the linear regression algorithm works, it should be unsurprising that it failed to fit a quadaratic data set.  If we take the form of the output for an unmodified linear regression algorithm:\n",
        "\n",
        "$$\\hat{y} =  X\\theta,$$\n",
        "\n",
        "and expand it, remembering that $\\hat{y}$ and X are vectors and $\\theta$ is a number, we get:\n",
        "\n",
        "$$y =  X\\theta \\longrightarrow \\begin{bmatrix}\n",
        "y_1 \\\\\n",
        "y_2 \\\\\n",
        "y_3 \\\\\n",
        ". \\\\\n",
        ". \\\\\n",
        ". \\\\\n",
        "y_N\n",
        "\\end{bmatrix} =  \\begin{bmatrix}\n",
        "x_1 \\\\\n",
        "x_2 \\\\\n",
        "x_3 \\\\\n",
        ". \\\\\n",
        ". \\\\\n",
        ". \\\\\n",
        "x_N \\\\\n",
        "\\end{bmatrix}\\theta \\longrightarrow \\begin{bmatrix}\n",
        "y_1 \\\\\n",
        "y_2 \\\\\n",
        "y_3 \\\\\n",
        ". \\\\\n",
        ". \\\\\n",
        ". \\\\\n",
        "y_N\n",
        "\\end{bmatrix} =  \\begin{bmatrix}\n",
        "\\theta x_1 \\\\\n",
        "\\theta x_2 \\\\\n",
        "\\theta x_3 \\\\\n",
        ". \\\\\n",
        ". \\\\\n",
        ". \\\\\n",
        "\\theta x_N \\\\\n",
        "\\end{bmatrix}.$$\n",
        "\n",
        "This means that without any modifications, the best model a linear regression algorithm can create is that the each output is just the corresponding input times a constant, $\\theta$ ($y_1 = \\theta x_1, y_2 = \\theta x_2, y_3 = \\theta x_3, ...$).  However there is an easy way to extend the amount of problems linear regression can be applied to by using some knowledge of the data set at hand and a structure called a _design matrix_.\n",
        "\n",
        "To create a design matrix we simply add more columns of X so that when we expand $\\hat{y} = \\theta X$, it better matches the form we expect our data to have.  Since we created our data set we know it is a quadratic and has the form $y = ax^2 + bx + c$, therefore let us consider the following way to restructure X.  Here we will make $\\theta$ a vector instead of a scalar and X will be a matrix instead of a vector:\n",
        "\n",
        "$$y =  X\\theta \\longrightarrow \\begin{bmatrix}\n",
        "y_1 \\\\\n",
        "y_2 \\\\\n",
        "y_3 \\\\\n",
        ". \\\\\n",
        ". \\\\\n",
        ". \\\\\n",
        "y_N\n",
        "\\end{bmatrix} =  \\begin{bmatrix}\n",
        "x_1^2 & x_1 & 1\\\\\n",
        "x_2^ 2 & x_2 & 1 \\\\\n",
        "x_3^2 & x_3 & 1 \\\\\n",
        ". \\\\\n",
        ". \\\\\n",
        ". \\\\\n",
        "x_N^2 & x_N & 1 \\\\\n",
        "\\end{bmatrix}\\begin{bmatrix}\n",
        "\\theta_1\n",
        "\\theta_2\n",
        "\\theta_3\n",
        "\\end{bmatrix} \\longrightarrow \\begin{bmatrix}\n",
        "y_1 \\\\\n",
        "y_2 \\\\\n",
        "y_3 \\\\\n",
        ". \\\\\n",
        ". \\\\\n",
        ". \\\\\n",
        "y_N\n",
        "\\end{bmatrix} = \\begin{bmatrix}\n",
        "\\theta_1 x_1^2 & \\theta_2 x_1 & \\theta_3\\\\\n",
        "\\theta_1 x_2^ 2 & \\theta_2 x_2 & \\theta_3 \\\\\n",
        "\\theta_1 x_3^2 & \\theta_2 x_3 & \\theta_3 \\\\\n",
        ". \\\\\n",
        ". \\\\\n",
        ". \\\\\n",
        "\\theta_1 x_N^2 & \\theta_2 x_N & \\theta_3 \\\\\n",
        "\\end{bmatrix}.$$\n",
        "\n",
        "\n",
        "Here each point in the y data set corresponds to a quaratic form of the x data set, which should match our data set.  If we did not have prior knowledge about what our data set was, we could always graph it and see if we could gleam any insights from its shape or use the [Vandermonde matrix](https://en.wikipedia.org/wiki/Vandermonde_matrix).\n",
        "\n",
        "Computationally we can construct the design matrix using the following code."
      ],
      "metadata": {
        "id": "7wHOGIMiYe9m"
      }
    },
    {
      "cell_type": "code",
      "source": [
        "# Create an array that is the X comoponent of the data set squared and an array that is\n",
        "# just ones\n",
        "X_squared = X**2\n",
        "ones = np.ones(len(X))\n",
        "\n",
        "# Create an array such that each row is [x**2, x, 1], for each point in the x data set\n",
        "X_design_matrix = np.array([X_squared, X, ones]).T\n",
        "\n",
        "# Print the first 10 rows of this new X data set\n",
        "print(X_design_matrix[:10])"
      ],
      "metadata": {
        "colab": {
          "base_uri": "https://localhost:8080/"
        },
        "id": "d7NxD3-xUZQX",
        "outputId": "631970e6-cf13-4df2-97ee-f58c98c17af7"
      },
      "execution_count": null,
      "outputs": [
        {
          "output_type": "stream",
          "name": "stdout",
          "text": [
            "[[100.   -10.     1.  ]\n",
            " [ 98.01  -9.9    1.  ]\n",
            " [ 96.04  -9.8    1.  ]\n",
            " [ 94.09  -9.7    1.  ]\n",
            " [ 92.16  -9.6    1.  ]\n",
            " [ 90.25  -9.5    1.  ]\n",
            " [ 88.36  -9.4    1.  ]\n",
            " [ 86.49  -9.3    1.  ]\n",
            " [ 84.64  -9.2    1.  ]\n",
            " [ 82.81  -9.1    1.  ]]\n"
          ]
        }
      ]
    },
    {
      "cell_type": "markdown",
      "source": [
        "**PROBLEM 6:** Make sure the above code makes sense to you before moving on.  Print out different lines if you need to."
      ],
      "metadata": {
        "id": "mVwLDOEHHMgv"
      }
    },
    {
      "cell_type": "markdown",
      "source": [],
      "metadata": {
        "id": "02cfjiomHNNg"
      }
    },
    {
      "cell_type": "code",
      "source": [
        "# Using the Scikit-Learn package, split the data set into a training set and a\n",
        "# test set\n",
        "X_train, X_test, y_train, y_test = train_test_split(X_design_matrix, y, test_size=0.2)"
      ],
      "metadata": {
        "id": "Opvv2HWvYTmR"
      },
      "execution_count": null,
      "outputs": []
    },
    {
      "cell_type": "markdown",
      "source": [
        "Since this X data set is two dimensional (multiple x values per y value), there is no need to reshape the X components of the data sets before performing linear regression with Scikit-Learn.  Here we create our linear regression algorithm and train it with the training data.  We set `fit_intercept` to False because we have already included the intercept in our design matrix (the column of ones).  Let's also go ahead and predict the points that will be in our test set."
      ],
      "metadata": {
        "id": "jXoyVl_4coyB"
      }
    },
    {
      "cell_type": "code",
      "source": [
        "# Define the linear regression algorithm and train it using the training data\n",
        "# When using a design matrix, make sure the linear regression algorithm is not\n",
        "# automatically fitting the intercept of the graph\n",
        "LiR = LinearRegression(fit_intercept=False)\n",
        "LiR.fit(X_train, y_train)\n",
        "\n",
        "# Used the trained algorithm to predict what y values correspond to the x component of\n",
        "# the test data set\n",
        "y_pred = LiR.predict(X_test)"
      ],
      "metadata": {
        "id": "PhI_qdQrpa65"
      },
      "execution_count": null,
      "outputs": []
    },
    {
      "cell_type": "markdown",
      "source": [
        "Now we need to evaluate our model's performance using the test data set.  We will do this the same was as before, by calculating the MSE and RMSE and comparing those values to the average y values of the test data set.  We will also graph the known data points and the preducted data points on the same graph."
      ],
      "metadata": {
        "id": "w8NZR3NcazlM"
      }
    },
    {
      "cell_type": "code",
      "source": [
        "print(\"The MSE between the test data set and the predicted data set is:\",\\\n",
        "      mse(y_pred, y_test))"
      ],
      "metadata": {
        "colab": {
          "base_uri": "https://localhost:8080/",
          "height": 262
        },
        "id": "7IVt_uhPpdb-",
        "outputId": "4abb457f-6b6e-46e4-82e3-b751d5d3e08f"
      },
      "execution_count": null,
      "outputs": [
        {
          "output_type": "error",
          "ename": "ValueError",
          "evalue": "operands could not be broadcast together with shapes (40,) (50,) ",
          "traceback": [
            "\u001b[0;31m---------------------------------------------------------------------------\u001b[0m",
            "\u001b[0;31mValueError\u001b[0m                                Traceback (most recent call last)",
            "\u001b[0;32m<ipython-input-67-7e7196740211>\u001b[0m in \u001b[0;36m<cell line: 1>\u001b[0;34m()\u001b[0m\n\u001b[1;32m      1\u001b[0m print(\"The MSE between the test data set and the predicted data set is:\",\\\n\u001b[0;32m----> 2\u001b[0;31m       mse(y_pred, y_test))\n\u001b[0m",
            "\u001b[0;32m<ipython-input-32-b50f2061e374>\u001b[0m in \u001b[0;36mmse\u001b[0;34m(A, B)\u001b[0m\n\u001b[1;32m     11\u001b[0m         \u001b[0mNote\u001b[0m \u001b[0mthat\u001b[0m \u001b[0mA\u001b[0m \u001b[0;32mand\u001b[0m \u001b[0mB\u001b[0m \u001b[0mmust\u001b[0m \u001b[0mbe\u001b[0m \u001b[0mthe\u001b[0m \u001b[0msame\u001b[0m \u001b[0mlength\u001b[0m\u001b[0;34m.\u001b[0m\u001b[0;34m\u001b[0m\u001b[0;34m\u001b[0m\u001b[0m\n\u001b[1;32m     12\u001b[0m     \"\"\"\n\u001b[0;32m---> 13\u001b[0;31m     \u001b[0;32mreturn\u001b[0m \u001b[0mnp\u001b[0m\u001b[0;34m.\u001b[0m\u001b[0maverage\u001b[0m\u001b[0;34m(\u001b[0m\u001b[0;34m(\u001b[0m\u001b[0mA\u001b[0m\u001b[0;34m-\u001b[0m\u001b[0mB\u001b[0m\u001b[0;34m)\u001b[0m\u001b[0;34m**\u001b[0m\u001b[0;36m2\u001b[0m\u001b[0;34m)\u001b[0m\u001b[0;34m\u001b[0m\u001b[0;34m\u001b[0m\u001b[0m\n\u001b[0m",
            "\u001b[0;31mValueError\u001b[0m: operands could not be broadcast together with shapes (40,) (50,) "
          ]
        }
      ]
    },
    {
      "cell_type": "code",
      "source": [
        "print(\"The RMSE between the test data set and the predicted data set is:\",\\\n",
        "      np.sqrt(mse(y_pred, y_test)))"
      ],
      "metadata": {
        "colab": {
          "base_uri": "https://localhost:8080/"
        },
        "id": "nqp9IAnzqPi6",
        "outputId": "e4456d77-e90c-40eb-d9dc-7eb909a3ac3f"
      },
      "execution_count": null,
      "outputs": [
        {
          "output_type": "stream",
          "name": "stdout",
          "text": [
            "The RMSE between the test data set and the predicted data set is: 6.500774570140277\n"
          ]
        }
      ]
    },
    {
      "cell_type": "code",
      "source": [
        "print(\"The average value of the y data set is:\", np.average(y))"
      ],
      "metadata": {
        "colab": {
          "base_uri": "https://localhost:8080/"
        },
        "id": "6Vx0mtC7T27C",
        "outputId": "c3abaf3a-fcda-4660-a160-bff1f0f9998a"
      },
      "execution_count": null,
      "outputs": [
        {
          "output_type": "stream",
          "name": "stdout",
          "text": [
            "The average value of the y data set is: 94.18499999999916\n"
          ]
        }
      ]
    },
    {
      "cell_type": "code",
      "source": [
        "# Plot the test data set and the predicted data set on the same graph\n",
        "plt.scatter(X_test[:,1], y_test, color=\"blue\", s=50, label=\"Test Data\")\n",
        "plt.scatter(X_test[:,1], y_pred, color='red', marker='^', s=50, label=\"Predicted Data\")\n",
        "plt.legend()\n",
        "plt.xlabel(\"x\")\n",
        "plt.ylabel(\"y\")"
      ],
      "metadata": {
        "colab": {
          "base_uri": "https://localhost:8080/",
          "height": 468
        },
        "id": "QgPnYwZWpiou",
        "outputId": "b1c03779-3207-40b0-c8d5-ff6ecb6a6f71"
      },
      "execution_count": null,
      "outputs": [
        {
          "output_type": "execute_result",
          "data": {
            "text/plain": [
              "Text(0, 0.5, 'y')"
            ]
          },
          "metadata": {},
          "execution_count": 49
        },
        {
          "output_type": "display_data",
          "data": {
            "text/plain": [
              "<Figure size 640x480 with 1 Axes>"
            ],
            "image/png": "[encoded data removed]"
          },
          "metadata": {}
        }
      ]
    },
    {
      "cell_type": "markdown",
      "source": [
        "**PROBLEM 7:** Does this new model seem to be a better fit for the data set?  Explain your answer using a combination of the error scores and the graph."
      ],
      "metadata": {
        "id": "1_UwMS6BajXk"
      }
    },
    {
      "cell_type": "markdown",
      "source": [],
      "metadata": {
        "id": "LFypxxFQajh5"
      }
    },
    {
      "cell_type": "markdown",
      "source": [
        "### Evaluating the Model Weights\n",
        "\n",
        "Another method of evaluating the performance of our model is to look at the weights, $\\theta$, that were calculated when the model was trained.  We can get this easily using the name of our linear regression algorith, `LiR`, and the attribute `coef_`."
      ],
      "metadata": {
        "id": "ahO13kMmbHHg"
      }
    },
    {
      "cell_type": "code",
      "source": [
        "# Print the coefficients of the linear regression algorithms\n",
        "LiR.coef_"
      ],
      "metadata": {
        "colab": {
          "base_uri": "https://localhost:8080/"
        },
        "id": "UlsxVB-NpmZR",
        "outputId": "469a1c0b-17d6-4c8b-d487-1ff047c63dba"
      },
      "execution_count": null,
      "outputs": [
        {
          "output_type": "execute_result",
          "data": {
            "text/plain": [
              "array([ 2.99928073,  3.89379792, -5.82295679])"
            ]
          },
          "metadata": {},
          "execution_count": 50
        }
      ]
    },
    {
      "cell_type": "markdown",
      "source": [
        "Since we created the data set in this notebook, we know that before we added the noise the data set had the form $y = 3x^2 + 4x -5$.  Therefore, assuming the noise added was not too great, the weights found by the linear regression algorithm should be $a \\approx 3$, $b \\approx 4$, and $c \\approx -5$.\n",
        "\n",
        "We can print the weights of the linear regression algorithm below, along with the actual values to see how they compare."
      ],
      "metadata": {
        "id": "ja9JgvPrUTW-"
      }
    },
    {
      "cell_type": "code",
      "source": [
        "print(\"Predicted Value of a:\", LiR.coef_[0],\"  Actual Value of a: 3\")\n",
        "print(\"Predicted Value of b:\", LiR.coef_[1],\"  Actual Value of b: 4\")\n",
        "print(\"Predicted Value of c:\", LiR.coef_[2],\"  Actual Value of c: -5\")"
      ],
      "metadata": {
        "colab": {
          "base_uri": "https://localhost:8080/"
        },
        "id": "Zj8QTHOYqXTH",
        "outputId": "e8959fb7-0600-4371-cf4f-391b0a04544b"
      },
      "execution_count": null,
      "outputs": [
        {
          "output_type": "stream",
          "name": "stdout",
          "text": [
            "Predicted Value of a: 2.999280726311325   Actual Value of a: 3\n",
            "Predicted Value of b: 3.8937979163034218   Actual Value of b: 4\n",
            "Predicted Value of c: -5.822956791243829   Actual Value of c: -5\n"
          ]
        }
      ]
    },
    {
      "cell_type": "markdown",
      "source": [
        "**PROBLEM 8:** How do the predicted values of a, b, and c compare to the actual values?  Do you think this is a good measure of the accuracy of the model?"
      ],
      "metadata": {
        "id": "rdZ5gQyxU_U2"
      }
    },
    {
      "cell_type": "markdown",
      "source": [],
      "metadata": {
        "id": "A9C79K3oU_Y_"
      }
    },
    {
      "cell_type": "markdown",
      "source": [
        "**PROBLEM 9:** Rerun the above code cells (From the heading *Applying the Machine Learning Workflow to Linear Regression*) with various levels of noise. (Hint: you only need to change one number)  How does the level of noise effect the accuracy of the model?  Is it possible to have no error from the linear regression algorithm?  Type your observations in the text cell below."
      ],
      "metadata": {
        "id": "_gBgPg3hPK9v"
      }
    },
    {
      "cell_type": "markdown",
      "source": [],
      "metadata": {
        "id": "1lgje0R7Pq6g"
      }
    },
    {
      "cell_type": "markdown",
      "source": [
        "### Practice What You Have Learned\n",
        "\n",
        "a. In the code cell below, import the file `practice_what_you_have_learned_1.csv` as a Pandas dataframe.  Print the first few lines of the dataframe and the keys.  Hint: see [this page](https://pandas.pydata.org/docs/reference/api/pandas.DataFrame.html) for documentation on Pandas dataframes."
      ],
      "metadata": {
        "id": "cOpgNaxUPCxP"
      }
    },
    {
      "cell_type": "code",
      "source": [
        "# Import the data set using Pandas.  The data set will now be formatted as a Pandas\n",
        "# dataframe\n",
        "data_set = pd.read_csv(data_dir+\"practice_what_you_have_learned_1.csv\",header=0)\n",
        "\n",
        "# Print the first few rows of the dataframe\n",
        "data_set.head()"
      ],
      "metadata": {
        "id": "yYc0C55mPCHc",
        "colab": {
          "base_uri": "https://localhost:8080/",
          "height": 206
        },
        "outputId": "242e6091-4620-4549-c82f-2b3c7d951f44"
      },
      "execution_count": null,
      "outputs": [
        {
          "output_type": "execute_result",
          "data": {
            "text/plain": [
              "      x         y\n",
              "0 -10.0 -6355.000\n",
              "1  -9.9 -6222.353\n",
              "2  -9.8 -5700.784\n",
              "3  -9.7 -5807.251\n",
              "4  -9.6 -5542.712"
            ],
            "text/html": [
              "\n",
              "  <div id=\"df-74f5fc44-e002-46ab-884a-d5c1d053f36a\" class=\"colab-df-container\">\n",
              "    <div>\n",
              "<style scoped>\n",
              "    .dataframe tbody tr th:only-of-type {\n",
              "        vertical-align: middle;\n",
              "    }\n",
              "\n",
              "    .dataframe tbody tr th {\n",
              "        vertical-align: top;\n",
              "    }\n",
              "\n",
              "    .dataframe thead th {\n",
              "        text-align: right;\n",
              "    }\n",
              "</style>\n",
              "<table border=\"1\" class=\"dataframe\">\n",
              "  <thead>\n",
              "    <tr style=\"text-align: right;\">\n",
              "      <th></th>\n",
              "      <th>x</th>\n",
              "      <th>y</th>\n",
              "    </tr>\n",
              "  </thead>\n",
              "  <tbody>\n",
              "    <tr>\n",
              "      <th>0</th>\n",
              "      <td>-10.0</td>\n",
              "      <td>-6355.000</td>\n",
              "    </tr>\n",
              "    <tr>\n",
              "      <th>1</th>\n",
              "      <td>-9.9</td>\n",
              "      <td>-6222.353</td>\n",
              "    </tr>\n",
              "    <tr>\n",
              "      <th>2</th>\n",
              "      <td>-9.8</td>\n",
              "      <td>-5700.784</td>\n",
              "    </tr>\n",
              "    <tr>\n",
              "      <th>3</th>\n",
              "      <td>-9.7</td>\n",
              "      <td>-5807.251</td>\n",
              "    </tr>\n",
              "    <tr>\n",
              "      <th>4</th>\n",
              "      <td>-9.6</td>\n",
              "      <td>-5542.712</td>\n",
              "    </tr>\n",
              "  </tbody>\n",
              "</table>\n",
              "</div>\n",
              "    <div class=\"colab-df-buttons\">\n",
              "\n",
              "  <div class=\"colab-df-container\">\n",
              "    <button class=\"colab-df-convert\" onclick=\"convertToInteractive('df-74f5fc44-e002-46ab-884a-d5c1d053f36a')\"\n",
              "            title=\"Convert this dataframe to an interactive table.\"\n",
              "            style=\"display:none;\">\n",
              "\n",
              "  <svg xmlns=\"http://www.w3.org/2000/svg\" height=\"24px\" viewBox=\"0 -960 960 960\">\n",
              "    <path d=\"M120-120v-720h720v720H120Zm60-500h600v-160H180v160Zm220 220h160v-160H400v160Zm0 220h160v-160H400v160ZM180-400h160v-160H180v160Zm440 0h160v-160H620v160ZM180-180h160v-160H180v160Zm440 0h160v-160H620v160Z\"/>\n",
              "  </svg>\n",
              "    </button>\n",
              "\n",
              "  <style>\n",
              "    .colab-df-container {\n",
              "      display:flex;\n",
              "      gap: 12px;\n",
              "    }\n",
              "\n",
              "    .colab-df-convert {\n",
              "      background-color: #E8F0FE;\n",
              "      border: none;\n",
              "      border-radius: 50%;\n",
              "      cursor: pointer;\n",
              "      display: none;\n",
              "      fill: #1967D2;\n",
              "      height: 32px;\n",
              "      padding: 0 0 0 0;\n",
              "      width: 32px;\n",
              "    }\n",
              "\n",
              "    .colab-df-convert:hover {\n",
              "      background-color: #E2EBFA;\n",
              "      box-shadow: 0px 1px 2px rgba(60, 64, 67, 0.3), 0px 1px 3px 1px rgba(60, 64, 67, 0.15);\n",
              "      fill: #174EA6;\n",
              "    }\n",
              "\n",
              "    .colab-df-buttons div {\n",
              "      margin-bottom: 4px;\n",
              "    }\n",
              "\n",
              "    [theme=dark] .colab-df-convert {\n",
              "      background-color: #3B4455;\n",
              "      fill: #D2E3FC;\n",
              "    }\n",
              "\n",
              "    [theme=dark] .colab-df-convert:hover {\n",
              "      background-color: #434B5C;\n",
              "      box-shadow: 0px 1px 3px 1px rgba(0, 0, 0, 0.15);\n",
              "      filter: drop-shadow(0px 1px 2px rgba(0, 0, 0, 0.3));\n",
              "      fill: #FFFFFF;\n",
              "    }\n",
              "  </style>\n",
              "\n",
              "    <script>\n",
              "      const buttonEl =\n",
              "        document.querySelector('#df-74f5fc44-e002-46ab-884a-d5c1d053f36a button.colab-df-convert');\n",
              "      buttonEl.style.display =\n",
              "        google.colab.kernel.accessAllowed ? 'block' : 'none';\n",
              "\n",
              "      async function convertToInteractive(key) {\n",
              "        const element = document.querySelector('#df-74f5fc44-e002-46ab-884a-d5c1d053f36a');\n",
              "        const dataTable =\n",
              "          await google.colab.kernel.invokeFunction('convertToInteractive',\n",
              "                                                    [key], {});\n",
              "        if (!dataTable) return;\n",
              "\n",
              "        const docLinkHtml = 'Like what you see? Visit the ' +\n",
              "          '<a target=\"_blank\" href=https://colab.research.google.com/notebooks/data_table.ipynb>data table notebook</a>'\n",
              "          + ' to learn more about interactive tables.';\n",
              "        element.innerHTML = '';\n",
              "        dataTable['output_type'] = 'display_data';\n",
              "        await google.colab.output.renderOutput(dataTable, element);\n",
              "        const docLink = document.createElement('div');\n",
              "        docLink.innerHTML = docLinkHtml;\n",
              "        element.appendChild(docLink);\n",
              "      }\n",
              "    </script>\n",
              "  </div>\n",
              "\n",
              "\n",
              "<div id=\"df-d2d4401e-d429-4aa6-a92f-4a446cc1fab6\">\n",
              "  <button class=\"colab-df-quickchart\" onclick=\"quickchart('df-d2d4401e-d429-4aa6-a92f-4a446cc1fab6')\"\n",
              "            title=\"Suggest charts\"\n",
              "            style=\"display:none;\">\n",
              "\n",
              "<svg xmlns=\"http://www.w3.org/2000/svg\" height=\"24px\"viewBox=\"0 0 24 24\"\n",
              "     width=\"24px\">\n",
              "    <g>\n",
              "        <path d=\"M19 3H5c-1.1 0-2 .9-2 2v14c0 1.1.9 2 2 2h14c1.1 0 2-.9 2-2V5c0-1.1-.9-2-2-2zM9 17H7v-7h2v7zm4 0h-2V7h2v10zm4 0h-2v-4h2v4z\"/>\n",
              "    </g>\n",
              "</svg>\n",
              "  </button>\n",
              "\n",
              "<style>\n",
              "  .colab-df-quickchart {\n",
              "      --bg-color: #E8F0FE;\n",
              "      --fill-color: #1967D2;\n",
              "      --hover-bg-color: #E2EBFA;\n",
              "      --hover-fill-color: #174EA6;\n",
              "      --disabled-fill-color: #AAA;\n",
              "      --disabled-bg-color: #DDD;\n",
              "  }\n",
              "\n",
              "  [theme=dark] .colab-df-quickchart {\n",
              "      --bg-color: #3B4455;\n",
              "      --fill-color: #D2E3FC;\n",
              "      --hover-bg-color: #434B5C;\n",
              "      --hover-fill-color: #FFFFFF;\n",
              "      --disabled-bg-color: #3B4455;\n",
              "      --disabled-fill-color: #666;\n",
              "  }\n",
              "\n",
              "  .colab-df-quickchart {\n",
              "    background-color: var(--bg-color);\n",
              "    border: none;\n",
              "    border-radius: 50%;\n",
              "    cursor: pointer;\n",
              "    display: none;\n",
              "    fill: var(--fill-color);\n",
              "    height: 32px;\n",
              "    padding: 0;\n",
              "    width: 32px;\n",
              "  }\n",
              "\n",
              "  .colab-df-quickchart:hover {\n",
              "    background-color: var(--hover-bg-color);\n",
              "    box-shadow: 0 1px 2px rgba(60, 64, 67, 0.3), 0 1px 3px 1px rgba(60, 64, 67, 0.15);\n",
              "    fill: var(--button-hover-fill-color);\n",
              "  }\n",
              "\n",
              "  .colab-df-quickchart-complete:disabled,\n",
              "  .colab-df-quickchart-complete:disabled:hover {\n",
              "    background-color: var(--disabled-bg-color);\n",
              "    fill: var(--disabled-fill-color);\n",
              "    box-shadow: none;\n",
              "  }\n",
              "\n",
              "  .colab-df-spinner {\n",
              "    border: 2px solid var(--fill-color);\n",
              "    border-color: transparent;\n",
              "    border-bottom-color: var(--fill-color);\n",
              "    animation:\n",
              "      spin 1s steps(1) infinite;\n",
              "  }\n",
              "\n",
              "  @keyframes spin {\n",
              "    0% {\n",
              "      border-color: transparent;\n",
              "      border-bottom-color: var(--fill-color);\n",
              "      border-left-color: var(--fill-color);\n",
              "    }\n",
              "    20% {\n",
              "      border-color: transparent;\n",
              "      border-left-color: var(--fill-color);\n",
              "      border-top-color: var(--fill-color);\n",
              "    }\n",
              "    30% {\n",
              "      border-color: transparent;\n",
              "      border-left-color: var(--fill-color);\n",
              "      border-top-color: var(--fill-color);\n",
              "      border-right-color: var(--fill-color);\n",
              "    }\n",
              "    40% {\n",
              "      border-color: transparent;\n",
              "      border-right-color: var(--fill-color);\n",
              "      border-top-color: var(--fill-color);\n",
              "    }\n",
              "    60% {\n",
              "      border-color: transparent;\n",
              "      border-right-color: var(--fill-color);\n",
              "    }\n",
              "    80% {\n",
              "      border-color: transparent;\n",
              "      border-right-color: var(--fill-color);\n",
              "      border-bottom-color: var(--fill-color);\n",
              "    }\n",
              "    90% {\n",
              "      border-color: transparent;\n",
              "      border-bottom-color: var(--fill-color);\n",
              "    }\n",
              "  }\n",
              "</style>\n",
              "\n",
              "  <script>\n",
              "    async function quickchart(key) {\n",
              "      const quickchartButtonEl =\n",
              "        document.querySelector('#' + key + ' button');\n",
              "      quickchartButtonEl.disabled = true;  // To prevent multiple clicks.\n",
              "      quickchartButtonEl.classList.add('colab-df-spinner');\n",
              "      try {\n",
              "        const charts = await google.colab.kernel.invokeFunction(\n",
              "            'suggestCharts', [key], {});\n",
              "      } catch (error) {\n",
              "        console.error('Error during call to suggestCharts:', error);\n",
              "      }\n",
              "      quickchartButtonEl.classList.remove('colab-df-spinner');\n",
              "      quickchartButtonEl.classList.add('colab-df-quickchart-complete');\n",
              "    }\n",
              "    (() => {\n",
              "      let quickchartButtonEl =\n",
              "        document.querySelector('#df-d2d4401e-d429-4aa6-a92f-4a446cc1fab6 button');\n",
              "      quickchartButtonEl.style.display =\n",
              "        google.colab.kernel.accessAllowed ? 'block' : 'none';\n",
              "    })();\n",
              "  </script>\n",
              "</div>\n",
              "\n",
              "    </div>\n",
              "  </div>\n"
            ],
            "application/vnd.google.colaboratory.intrinsic+json": {
              "type": "dataframe",
              "variable_name": "data_set",
              "summary": "{\n  \"name\": \"data_set\",\n  \"rows\": 200,\n  \"fields\": [\n    {\n      \"column\": \"x\",\n      \"properties\": {\n        \"dtype\": \"number\",\n        \"std\": 5.787918451395092,\n        \"min\": -10.0,\n        \"max\": 9.899999999999928,\n        \"num_unique_values\": 200,\n        \"samples\": [\n          -0.5000000000000338,\n          -8.500000000000005,\n          -7.000000000000011\n        ],\n        \"semantic_type\": \"\",\n        \"description\": \"\"\n      }\n    },\n    {\n      \"column\": \"y\",\n      \"properties\": {\n        \"dtype\": \"number\",\n        \"std\": 2626.5313649095474,\n        \"min\": -6355.0,\n        \"max\": 7018.103999999853,\n        \"num_unique_values\": 200,\n        \"samples\": [\n          -99.37499999999994,\n          -4383.375000000007,\n          -2030.0000000000105\n        ],\n        \"semantic_type\": \"\",\n        \"description\": \"\"\n      }\n    }\n  ]\n}"
            }
          },
          "metadata": {},
          "execution_count": 83
        }
      ]
    },
    {
      "cell_type": "markdown",
      "source": [
        "b. Export the columns of the dataframe as NumPy arrays, using descriptive variable names based on the names of the columns."
      ],
      "metadata": {
        "id": "XYKd8yGLWXN0"
      }
    },
    {
      "cell_type": "code",
      "source": [
        "X = np.asarray(data_set['x'])\n",
        "y = np.asarray(data_set['y'])"
      ],
      "metadata": {
        "id": "nYYF4FJaWXcH"
      },
      "execution_count": null,
      "outputs": []
    },
    {
      "cell_type": "markdown",
      "source": [
        "c. Graph the data set (assuming the first column of the data set is the x-axis and the second column is the y-axis).  Add x and y labels to the axes based on the column names given in the data set."
      ],
      "metadata": {
        "id": "QWnZQPqkWlSk"
      }
    },
    {
      "cell_type": "code",
      "source": [
        "plt.plot(X,y)"
      ],
      "metadata": {
        "id": "x7wspuXAWlbV",
        "colab": {
          "base_uri": "https://localhost:8080/",
          "height": 449
        },
        "outputId": "a1f87c73-9b69-4f60-ae58-81dbfb2280c3"
      },
      "execution_count": null,
      "outputs": [
        {
          "output_type": "execute_result",
          "data": {
            "text/plain": [
              "[<matplotlib.lines.Line2D at 0x7ec002a73e80>]"
            ]
          },
          "metadata": {},
          "execution_count": 85
        },
        {
          "output_type": "display_data",
          "data": {
            "text/plain": [
              "<Figure size 640x480 with 1 Axes>"
            ],
            "image/png": "[encoded data removed]"
          },
          "metadata": {}
        }
      ]
    },
    {
      "cell_type": "markdown",
      "source": [
        "d. Based on the graph of the data, what equation could be a good model for the data?  Write your answer in the cell below.  Hint: the answer will be a polynomial."
      ],
      "metadata": {
        "id": "7WDc1AKRWz7R"
      }
    },
    {
      "cell_type": "markdown",
      "source": [],
      "metadata": {
        "id": "3XqSv4HtWz-q"
      }
    },
    {
      "cell_type": "markdown",
      "source": [
        "e. Create a design matrix using your answer to part d."
      ],
      "metadata": {
        "id": "E7cotyuEW_Hv"
      }
    },
    {
      "cell_type": "code",
      "source": [
        "# Create an array that is the X comoponent of the data set squared and an array that is\n",
        "# just ones\n",
        "X_squared = X**2\n",
        "X_cubed = X**3\n",
        "ones = np.ones(len(X))\n",
        "\n",
        "# Create an array such that each row is [x**3,x**2, x, 1], for each point in the x data set\n",
        "X_design_matrix = np.array([X_cubed,X_squared, X, ones]).T\n",
        "\n",
        "# Print the first 10 rows of this new X data set\n",
        "print(X_design_matrix[:10])"
      ],
      "metadata": {
        "id": "yMNjv6E8W_NV",
        "colab": {
          "base_uri": "https://localhost:8080/"
        },
        "outputId": "771dab16-813c-4663-b844-d369051966f8"
      },
      "execution_count": null,
      "outputs": [
        {
          "output_type": "stream",
          "name": "stdout",
          "text": [
            "[[-1000.      100.      -10.        1.   ]\n",
            " [ -970.299    98.01     -9.9       1.   ]\n",
            " [ -941.192    96.04     -9.8       1.   ]\n",
            " [ -912.673    94.09     -9.7       1.   ]\n",
            " [ -884.736    92.16     -9.6       1.   ]\n",
            " [ -857.375    90.25     -9.5       1.   ]\n",
            " [ -830.584    88.36     -9.4       1.   ]\n",
            " [ -804.357    86.49     -9.3       1.   ]\n",
            " [ -778.688    84.64     -9.2       1.   ]\n",
            " [ -753.571    82.81     -9.1       1.   ]]\n"
          ]
        }
      ]
    },
    {
      "cell_type": "markdown",
      "source": [
        "f. Create a training data set and a test data set using the Scikit-Learn function.  Set aside 25% of the data set for the test data set."
      ],
      "metadata": {
        "id": "6fGZlRXMXH9P"
      }
    },
    {
      "cell_type": "code",
      "source": [
        "# Using the Scikit-Learn package, split the data set into a training set and a\n",
        "# test set\n",
        "X_train, X_test, y_train, y_test = train_test_split(X_design_matrix, y, test_size=0.25)"
      ],
      "metadata": {
        "id": "E0LtoXJPXIDY"
      },
      "execution_count": null,
      "outputs": []
    },
    {
      "cell_type": "markdown",
      "source": [
        "g. Create a linear regression model, fit it using the training data, and then create a variable `y_pred` which holds the predictions for the test data set."
      ],
      "metadata": {
        "id": "k87Q98oOXSk9"
      }
    },
    {
      "cell_type": "code",
      "source": [
        "\n",
        "# Define the linear regression algorithm and train it using the training data\n",
        "# When using a design matrix, make sure the linear regression algorithm is not\n",
        "# automatically fitting the intercept of the graph\n",
        "LiR = LinearRegression(fit_intercept=False)\n",
        "LiR.fit(X_train, y_train)\n",
        "\n",
        "# Used the trained algorithm to predict what y values correspond to the x component of\n",
        "# the test data set\n",
        "y_pred = LiR.predict(X_test)"
      ],
      "metadata": {
        "id": "b-TXARLTXSuk"
      },
      "execution_count": null,
      "outputs": []
    },
    {
      "cell_type": "markdown",
      "source": [
        "h. Using any combination of graphs and errors, determine the accuracy of your model using the test data set."
      ],
      "metadata": {
        "id": "0R74DmxkXgOx"
      }
    },
    {
      "cell_type": "code",
      "source": [
        "# Print the coefficients of the linear regression algorithms\n",
        "LiR.coef_\n"
      ],
      "metadata": {
        "id": "ORJ8DRzOXgXZ",
        "colab": {
          "base_uri": "https://localhost:8080/"
        },
        "outputId": "c927f8a6-efa8-45d6-b021-7870e16d0653"
      },
      "execution_count": null,
      "outputs": [
        {
          "output_type": "execute_result",
          "data": {
            "text/plain": [
              "array([  6.69025047,   4.54985565,  14.53191839, -60.65546417])"
            ]
          },
          "metadata": {},
          "execution_count": 89
        }
      ]
    },
    {
      "cell_type": "code",
      "source": [
        "plt.plot(X,y)\n",
        "a = LiR.coef_[0]\n",
        "b = LiR.coef_[1]\n",
        "c = LiR.coef_[2]\n",
        "d = LiR.coef_[3]\n",
        "\n",
        "cubic = a*X**3 + b*X**2 + c*X + d\n",
        "\n",
        "plt.plot(X, cubic)\n",
        "\n",
        "\n",
        "plt.legend()\n",
        "plt.xlabel(\"x\")\n",
        "plt.ylabel(\"y\")\n",
        "plt.xlim(-10, 10)  # Set x-axis limits from -5 to 5\n",
        "plt.ylim(-6000, 6000)  # Set y-axis limits from -50 to 50\n",
        "\n",
        "\n"
      ],
      "metadata": {
        "colab": {
          "base_uri": "https://localhost:8080/",
          "height": 513
        },
        "id": "J8wJfayM2623",
        "outputId": "0adf6b86-92f7-4b0c-f10a-78988a2f0158"
      },
      "execution_count": null,
      "outputs": [
        {
          "output_type": "stream",
          "name": "stderr",
          "text": [
            "WARNING:matplotlib.legend:No artists with labels found to put in legend.  Note that artists whose label start with an underscore are ignored when legend() is called with no argument.\n"
          ]
        },
        {
          "output_type": "execute_result",
          "data": {
            "text/plain": [
              "(-6000.0, 6000.0)"
            ]
          },
          "metadata": {},
          "execution_count": 101
        },
        {
          "output_type": "display_data",
          "data": {
            "text/plain": [
              "<Figure size 640x480 with 1 Axes>"
            ],
            "image/png": "[encoded data removed]"
          },
          "metadata": {}
        }
      ]
    },
    {
      "cell_type": "markdown",
      "source": [
        "i. Do you think your machine learning model fits the data set well?  If it does not, what improvements do you think you can make to increase it performance?"
      ],
      "metadata": {
        "id": "PZeLxj30XouX"
      }
    },
    {
      "cell_type": "markdown",
      "source": [],
      "metadata": {
        "id": "VNotjjaSXoyE"
      }
    },
    {
      "cell_type": "markdown",
      "source": [
        "## Bonus Problem: Creating a Linear Regression Algorithm from Scratch\n",
        "\n",
        "Using the equation for the optimized parameters of $\\theta$, presented earlier in this notebook, create a function which performs linear regression on a given training data set and returns a prediction for a test set.  Combine your code into a function called `linear_regression`, which takes three parameters `X_train`, `y_train`, and `X_test`, and returns the predicted y data set, `y_pred`.  Use the outline of the function given below.  Compare its performance using the \"Practice What You Have Learned\" data set and compare your function's performance to the\n",
        "\n",
        "\n",
        "```python\n",
        "def linear_regression (X_train, y_train, X_test):\n",
        "    # Your code goes here\n",
        "    return y_pred\n",
        "```"
      ],
      "metadata": {
        "id": "2pbSEadWO9vd"
      }
    },
    {
      "cell_type": "code",
      "source": [],
      "metadata": {
        "id": "rj_gbnizV6ZX"
      },
      "execution_count": null,
      "outputs": []
    }
  ]
}